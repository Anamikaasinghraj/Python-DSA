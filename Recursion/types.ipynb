{
 "cells": [
  {
   "cell_type": "markdown",
   "id": "72d79b89-01a3-40fd-9bff-14d16ef5d9af",
   "metadata": {},
   "source": [
    "# Types of Recursion in Python\n",
    "\n",
    "### 1. Direct Recursion :- A function calls itself directly."
   ]
  },
  {
   "cell_type": "code",
   "execution_count": 6,
   "id": "e664005b-4e3b-4c6b-b743-a7336cae2073",
   "metadata": {},
   "outputs": [],
   "source": [
    "def direct(n):\n",
    "    if n > 0:\n",
    "        print(n)\n",
    "        direct(n-1)"
   ]
  },
  {
   "cell_type": "markdown",
   "id": "91ecd1dd-8e0d-4eeb-9456-175cb95a6995",
   "metadata": {},
   "source": [
    "### 2. Indirect Recursion:- A function calls another function, which then calls the first."
   ]
  },
  {
   "cell_type": "code",
   "execution_count": 7,
   "id": "cc420cbd-6bd1-4573-bc49-2f8cd91d76e8",
   "metadata": {},
   "outputs": [
    {
     "name": "stdout",
     "output_type": "stream",
     "text": [
      "10 4 1 "
     ]
    }
   ],
   "source": [
    "def funcA(n):\n",
    "    if n > 0:\n",
    "        print(n, end=\" \")\n",
    "        funcB(n-1)\n",
    "\n",
    "def funcB(n):\n",
    "    if n > 1:\n",
    "        funcA(n//2)\n",
    "\n",
    "funcA(10)\n"
   ]
  },
  {
   "cell_type": "markdown",
   "id": "af4b515a-a762-40ca-af02-151c6338902e",
   "metadata": {},
   "source": [
    "### 3. Tail Recursion :- Recursive call is the last statement in the function."
   ]
  },
  {
   "cell_type": "code",
   "execution_count": 9,
   "id": "2098d498-46b1-43e5-bfea-51a8b5259c27",
   "metadata": {},
   "outputs": [],
   "source": [
    "def tail_recursion(n, acc=1):\n",
    "    if n == 0:\n",
    "        return acc\n",
    "    return tail_recursion(n-1, acc*n)\n"
   ]
  },
  {
   "cell_type": "markdown",
   "id": "6854bdda-a7d4-4c74-b893-ef55fa457632",
   "metadata": {},
   "source": [
    "### 4. Non- Tail Recursion:- Recursive call is not the last operation."
   ]
  },
  {
   "cell_type": "code",
   "execution_count": 10,
   "id": "616276a8-69a2-4568-902e-7c77cadec047",
   "metadata": {},
   "outputs": [],
   "source": [
    "def non_tail_recursion(n):\n",
    "    if n == 0:\n",
    "        return\n",
    "    non_tail_recursion(n-1)\n",
    "    print(n, end=\" \")  # work after recursion\n"
   ]
  },
  {
   "cell_type": "markdown",
   "id": "5c59f807-15f7-4a9b-a39c-b557294cb0ee",
   "metadata": {},
   "source": [
    "### 5. Linear Recursion:- Only one recursive call in each function activation. (Examples: factorial, Fibonacci with memoization) "
   ]
  },
  {
   "cell_type": "markdown",
   "id": "f078b34d-641a-48cf-b108-cb5426be0e8d",
   "metadata": {},
   "source": [
    "### 6. Tree Recursion:- Function makes more than one recursive call."
   ]
  },
  {
   "cell_type": "code",
   "execution_count": null,
   "id": "2ef8481b-3347-4283-bd49-ef5302c3e6d4",
   "metadata": {},
   "outputs": [],
   "source": [
    "def tree_recursion(n):\n",
    "    if n > 0:\n",
    "        print(n, end=\" \")\n",
    "        tree_recursion(n-1)\n",
    "        tree_recursion(n-1)\n"
   ]
  }
 ],
 "metadata": {
  "kernelspec": {
   "display_name": "Python [conda env:base] *",
   "language": "python",
   "name": "conda-base-py"
  },
  "language_info": {
   "codemirror_mode": {
    "name": "ipython",
    "version": 3
   },
   "file_extension": ".py",
   "mimetype": "text/x-python",
   "name": "python",
   "nbconvert_exporter": "python",
   "pygments_lexer": "ipython3",
   "version": "3.13.5"
  }
 },
 "nbformat": 4,
 "nbformat_minor": 5
}
