{
 "cells": [
  {
   "cell_type": "markdown",
   "id": "5010dc61-3e99-481c-a403-fb39bf9a1134",
   "metadata": {},
   "source": [
    "## Recursion:-\n",
    "\n",
    "Recursion is a method of solving problems where a function calls itself directly or indirectly.  \n",
    "\n",
    "**Key Idea**:  \n",
    "A recursive function must have:\n",
    "1. **Base Case** → Stops the recursion.\n",
    "2. **Recursive Case** → The function calls itself with a smaller subproblem.\n",
    "\n",
    "---\n",
    "\n",
    "## Why Recursion?\n",
    "- Simplifies complex problems by breaking them down.\n",
    "- Natural fit for problems like factorial, Fibonacci, tree traversals, backtracking.\n"
   ]
  },
  {
   "cell_type": "markdown",
   "id": "fa37542e-73b7-4604-91d7-33945b5a2339",
   "metadata": {},
   "source": [
    "## Example: Factorial using Recursion\n",
    "\n",
    "Mathematical definition:\n",
    "\\[\n",
    "n! = n \\times (n-1)!\n",
    "\\]\n",
    "with base case:\n",
    "\\[\n",
    "0! = 1\n",
    "\\]\n",
    "\n",
    "Visual representation:\n",
    "\n",
    "![Recursion Tree](recursionfact.jpeg)\n"
   ]
  },
  {
   "cell_type": "code",
   "execution_count": 2,
   "id": "56473a3b-62aa-4fce-aa28-f5ee9a295c5e",
   "metadata": {},
   "outputs": [
    {
     "name": "stdout",
     "output_type": "stream",
     "text": [
      "Factorial of 3: 6\n"
     ]
    }
   ],
   "source": [
    "# Factorial using recursion\n",
    "def factorial(n):\n",
    "    if n == 0:   # Base case\n",
    "        return 1\n",
    "    return n * factorial(n - 1)\n",
    "\n",
    "print(\"Factorial of 3:\", factorial(3))\n"
   ]
  },
  {
   "cell_type": "markdown",
   "id": "b7a022c7-8602-4e84-acc8-35c8fd2f4f67",
   "metadata": {},
   "source": [
    "## Summary\n",
    "- Recursion = solving a problem by breaking it into smaller subproblems.\n",
    "- Must always have a **base case** to stop.\n",
    "- Types: Direct, Indirect, Tail, Non-Tail, Linear, Tree, Mutual.\n",
    "- Powerful but can be less efficient than iteration due to **function call overhead**.\n"
   ]
  }
 ],
 "metadata": {
  "kernelspec": {
   "display_name": "Python [conda env:base] *",
   "language": "python",
   "name": "conda-base-py"
  },
  "language_info": {
   "codemirror_mode": {
    "name": "ipython",
    "version": 3
   },
   "file_extension": ".py",
   "mimetype": "text/x-python",
   "name": "python",
   "nbconvert_exporter": "python",
   "pygments_lexer": "ipython3",
   "version": "3.13.5"
  }
 },
 "nbformat": 4,
 "nbformat_minor": 5
}
