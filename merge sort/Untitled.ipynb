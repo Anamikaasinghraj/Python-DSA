{
 "cells": [
  {
   "cell_type": "markdown",
   "id": "0a0f32a4-3cab-40da-838b-a58790aee0fb",
   "metadata": {},
   "source": [
    "# Merge Sort\n",
    "\n",
    "**Merge Sort** is a **divide and conquer** algorithm that splits the array into halves, sorts each half, and merges them back together.\n",
    "\n",
    "### Working Principle:\n",
    "- Divide the array into two halves.\n",
    "- Recursively sort both halves.\n",
    "- Merge the sorted halves into one sorted array.\n",
    "\n",
    "### Characteristics:\n",
    "- **Time Complexity**:  \n",
    "  - Best Case: O(n log n)  \n",
    "  - Average Case: O(n log n)  \n",
    "  - Worst Case: O(n log n)  \n",
    "- **Space Complexity**: O(n) → requires extra space for merging  \n",
    "- **Stability**: Stable\n"
   ]
  },
  {
   "cell_type": "markdown",
   "id": "c0ef99f5-19e2-4ace-8ec1-92c125db9ea0",
   "metadata": {},
   "source": [
    "## Steps:\n",
    "1. If the array has 0 or 1 elements, it is already sorted.\n",
    "2. Otherwise, split the array into two halves.\n",
    "3. Recursively apply Merge Sort on each half.\n",
    "4. Merge the two sorted halves into a single sorted array.\n"
   ]
  },
  {
   "cell_type": "code",
   "execution_count": 1,
   "id": "8878d9ec-ba9b-4fa1-aa24-46340f484afc",
   "metadata": {},
   "outputs": [
    {
     "name": "stdout",
     "output_type": "stream",
     "text": [
      "Unsorted: [64, 25, 12, 22, 11]\n",
      "Sorted: [11, 12, 22, 25, 64]\n"
     ]
    }
   ],
   "source": [
    "def merge_sort(arr):\n",
    "    if len(arr) > 1:\n",
    "        mid = len(arr) // 2  # Find the middle\n",
    "        left_half = arr[:mid]\n",
    "        right_half = arr[mid:]\n",
    "\n",
    "        # Recursive calls\n",
    "        merge_sort(left_half)\n",
    "        merge_sort(right_half)\n",
    "\n",
    "        # Merging process\n",
    "        i = j = k = 0\n",
    "\n",
    "        while i < len(left_half) and j < len(right_half):\n",
    "            if left_half[i] < right_half[j]:\n",
    "                arr[k] = left_half[i]\n",
    "                i += 1\n",
    "            else:\n",
    "                arr[k] = right_half[j]\n",
    "                j += 1\n",
    "            k += 1\n",
    "\n",
    "        while i < len(left_half):\n",
    "            arr[k] = left_half[i]\n",
    "            i += 1\n",
    "            k += 1\n",
    "\n",
    "        while j < len(right_half):\n",
    "            arr[k] = right_half[j]\n",
    "            j += 1\n",
    "            k += 1\n",
    "\n",
    "    return arr\n",
    "\n",
    "# Example\n",
    "data = [64, 25, 12, 22, 11]\n",
    "print(\"Unsorted:\", data)\n",
    "print(\"Sorted:\", merge_sort(data))\n"
   ]
  },
  {
   "cell_type": "markdown",
   "id": "7d6e57b4-816d-4e8a-821b-10509463e8cf",
   "metadata": {},
   "source": [
    "## Visualization of Merge Sort\n",
    "\n",
    "Example: [64, 25, 12, 22, 11]\n",
    "\n",
    "Step 1 → Divide into halves → [64, 25] & [12, 22, 11]  \n",
    "Step 2 → Divide again → [64], [25], [12], [22, 11]  \n",
    "Step 3 → Merge step → [25, 64], [11, 22], [12]  \n",
    "Step 4 → Final merge → [11, 12, 22, 25, 64]  \n",
    "\n",
    "![Merge Sort](mergeSort.jpg)\n"
   ]
  },
  {
   "cell_type": "markdown",
   "id": "c6016dc6-8c30-4f4f-b1ff-c394b0d3ab56",
   "metadata": {},
   "source": [
    "## Summary\n",
    "- Merge Sort is efficient with guaranteed **O(n log n)** performance.\n",
    "- Preferred for large datasets and **linked lists**.\n",
    "- Requires extra memory (not in-place).\n",
    "- Forms the basis of **Timsort** (used in Python’s built-in `sort()`).\n"
   ]
  }
 ],
 "metadata": {
  "kernelspec": {
   "display_name": "Python [conda env:base] *",
   "language": "python",
   "name": "conda-base-py"
  },
  "language_info": {
   "codemirror_mode": {
    "name": "ipython",
    "version": 3
   },
   "file_extension": ".py",
   "mimetype": "text/x-python",
   "name": "python",
   "nbconvert_exporter": "python",
   "pygments_lexer": "ipython3",
   "version": "3.13.5"
  }
 },
 "nbformat": 4,
 "nbformat_minor": 5
}
