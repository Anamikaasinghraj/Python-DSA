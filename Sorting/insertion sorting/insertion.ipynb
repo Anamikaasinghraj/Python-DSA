{
 "cells": [
  {
   "cell_type": "markdown",
   "id": "6ce6076b-e647-4525-b45b-371332661f17",
   "metadata": {},
   "source": [
    "# Insertion Sort\n",
    "\n",
    "**Insertion Sort** is a simple comparison-based sorting algorithm.  \n",
    "\n",
    "### Working Principle:\n",
    "- Build the sorted array one element at a time.\n",
    "- Pick an element from the unsorted part and **insert it into its correct position** in the sorted part.\n",
    "- Repeat until the array is sorted.\n",
    "\n",
    "### Characteristics:\n",
    "- **Time Complexity**:  \n",
    "  - Best Case: O(n) (when already sorted)  \n",
    "  - Average Case: O(n²)  \n",
    "  - Worst Case: O(n²)  \n",
    "- **Space Complexity**: O(1) → In-place sorting  \n",
    "- **Stability**: Stable\n"
   ]
  },
  {
   "cell_type": "markdown",
   "id": "cef6e8de-29e0-4132-90b0-d951383c30b5",
   "metadata": {},
   "source": [
    "## Steps:\n",
    "1. Assume the first element is already sorted.\n",
    "2. Take the next element and compare it with elements in the sorted portion.\n",
    "3. Shift larger elements to the right to make space.\n",
    "4. Insert the current element into the correct position.\n",
    "5. Repeat until the array is fully sorted.\n"
   ]
  },
  {
   "cell_type": "code",
   "execution_count": 1,
   "id": "fce9b9ef-e129-46c5-ace3-f2e6f05cd614",
   "metadata": {},
   "outputs": [
    {
     "name": "stdout",
     "output_type": "stream",
     "text": [
      "Unsorted: [64, 25, 12, 22, 11]\n",
      "Sorted: [11, 12, 22, 25, 64]\n"
     ]
    }
   ],
   "source": [
    "def insertion_sort(arr):\n",
    "    for i in range(1, len(arr)):\n",
    "        key = arr[i]  \n",
    "        j = i - 1\n",
    "        # Move elements greater than key to one position ahead\n",
    "        while j >= 0 and arr[j] > key:\n",
    "            arr[j + 1] = arr[j]\n",
    "            j -= 1\n",
    "        arr[j + 1] = key\n",
    "    return arr\n",
    "\n",
    "# Example\n",
    "data = [64, 25, 12, 22, 11]\n",
    "print(\"Unsorted:\", data)\n",
    "print(\"Sorted:\", insertion_sort(data))\n"
   ]
  },
  {
   "cell_type": "markdown",
   "id": "ecd31764-2409-4d20-b33e-266e2146ec45",
   "metadata": {},
   "source": [
    "## Visualization of Insertion Sort\n",
    "\n",
    "Example: [64, 25, 12, 22, 11]\n",
    "\n",
    "Pass 1 → [25, 64, 12, 22, 11]  \n",
    "Pass 2 → [12, 25, 64, 22, 11]  \n",
    "Pass 3 → [12, 22, 25, 64, 11]  \n",
    "Pass 4 → [11, 12, 22, 25, 64]  \n",
    "\n",
    "\n"
   ]
  },
  {
   "cell_type": "markdown",
   "id": "88a3083d-b46b-4a34-b5f9-3d65955dca94",
   "metadata": {},
   "source": []
  }
 ],
 "metadata": {
  "kernelspec": {
   "display_name": "Python [conda env:base] *",
   "language": "python",
   "name": "conda-base-py"
  },
  "language_info": {
   "codemirror_mode": {
    "name": "ipython",
    "version": 3
   },
   "file_extension": ".py",
   "mimetype": "text/x-python",
   "name": "python",
   "nbconvert_exporter": "python",
   "pygments_lexer": "ipython3",
   "version": "3.13.5"
  }
 },
 "nbformat": 4,
 "nbformat_minor": 5
}
