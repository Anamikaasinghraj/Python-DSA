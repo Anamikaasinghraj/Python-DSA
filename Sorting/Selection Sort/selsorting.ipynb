{
 "cells": [
  {
   "cell_type": "markdown",
   "id": "3bb7115f-2c0f-47a9-b670-713f1ca36633",
   "metadata": {},
   "source": [
    "# Selection Sort\n",
    "\n",
    "**Selection Sort** is a simple comparison-based sorting algorithm.\n",
    "\n",
    "### Working Principle:\n",
    "- Find the **smallest element** in the array and place it at the beginning.\n",
    "- Then find the next smallest and place it in the second position.\n",
    "- Repeat until the array is sorted.\n",
    "\n",
    "### Characteristics:\n",
    "- **Time Complexity**: O(n²) (best, average, worst)\n",
    "- **Space Complexity**: O(1) → In-place sorting\n",
    "- **Stability**: Not stable\n"
   ]
  },
  {
   "cell_type": "markdown",
   "id": "aea8a44b-90bf-43f8-8e2c-874284f9622f",
   "metadata": {},
   "source": [
    "## Steps:\n",
    "1. Start from the first element, assume it is the minimum.\n",
    "2. Compare with the rest of the array to find the true minimum.\n",
    "3. Swap the found minimum with the first element.\n",
    "4. Move to the next position and repeat until the array is sorted.\n"
   ]
  },
  {
   "cell_type": "code",
   "execution_count": 1,
   "id": "c235c582-d650-4e37-8f30-f4e85c7e9c07",
   "metadata": {},
   "outputs": [
    {
     "name": "stdout",
     "output_type": "stream",
     "text": [
      "Unsorted: [64, 25, 12, 22, 11]\n",
      "Sorted: [11, 12, 22, 25, 64]\n"
     ]
    }
   ],
   "source": [
    "def selection_sort(arr):\n",
    "    n = len(arr)\n",
    "    for i in range(n):\n",
    "        min_index = i\n",
    "        for j in range(i+1, n):\n",
    "            if arr[j] < arr[min_index]:\n",
    "                min_index = j\n",
    "        arr[i], arr[min_index] = arr[min_index], arr[i]  # swap\n",
    "    return arr\n",
    "\n",
    "# Example\n",
    "data = [64, 25, 12, 22, 11]\n",
    "print(\"Unsorted:\", data)\n",
    "print(\"Sorted:\", selection_sort(data))\n"
   ]
  }
 ],
 "metadata": {
  "kernelspec": {
   "display_name": "Python [conda env:base] *",
   "language": "python",
   "name": "conda-base-py"
  },
  "language_info": {
   "codemirror_mode": {
    "name": "ipython",
    "version": 3
   },
   "file_extension": ".py",
   "mimetype": "text/x-python",
   "name": "python",
   "nbconvert_exporter": "python",
   "pygments_lexer": "ipython3",
   "version": "3.13.5"
  }
 },
 "nbformat": 4,
 "nbformat_minor": 5
}
