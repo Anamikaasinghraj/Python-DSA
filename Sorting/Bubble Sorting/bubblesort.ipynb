{
 "cells": [
  {
   "cell_type": "markdown",
   "id": "0c7cd215-ba5a-46e0-8e68-7ad01f6be311",
   "metadata": {},
   "source": [
    "# Bubble Sort\n",
    "\n",
    "**Bubble Sort** is the simplest comparison-based sorting algorithm.\n",
    "\n",
    "### Working Principle:\n",
    "- Repeatedly **swap adjacent elements** if they are in the wrong order.\n",
    "- After each pass, the largest element \"bubbles up\" to the end of the array.\n",
    "- Continue until no swaps are required.\n",
    "\n",
    "### Characteristics:\n",
    "- **Time Complexity**:  \n",
    "  - Best Case: O(n) (when array is already sorted, with optimization)  \n",
    "  - Average Case: O(n²)  \n",
    "  - Worst Case: O(n²)  \n",
    "- **Space Complexity**: O(1) → In-place sorting  \n",
    "- **Stability**: Stable (preserves order of equal elements)\n"
   ]
  },
  {
   "cell_type": "markdown",
   "id": "5c7c9f4a-8089-48fa-85ff-fa3b9b3ac3aa",
   "metadata": {},
   "source": [
    "## Steps:\n",
    "1. Compare the first two elements.\n",
    "2. If the first is greater, swap them.\n",
    "3. Move to the next pair and repeat.\n",
    "4. After first pass, the largest element is at the end.\n",
    "5. Repeat the process for the remaining (n-1) elements until sorted.\n"
   ]
  },
  {
   "cell_type": "code",
   "execution_count": 1,
   "id": "a3c303ea-10da-4e10-91aa-bf83432380d0",
   "metadata": {},
   "outputs": [
    {
     "name": "stdout",
     "output_type": "stream",
     "text": [
      "Unsorted: [64, 25, 12, 22, 11]\n",
      "Sorted: [11, 12, 22, 25, 64]\n"
     ]
    }
   ],
   "source": [
    "def bubble_sort(arr):\n",
    "    n = len(arr)\n",
    "    for i in range(n):\n",
    "        swapped = False\n",
    "        for j in range(0, n - i - 1):\n",
    "            if arr[j] > arr[j + 1]:\n",
    "                arr[j], arr[j + 1] = arr[j + 1], arr[j]\n",
    "                swapped = True\n",
    "        if not swapped:  # optimization: stop if no swaps in a pass\n",
    "            break\n",
    "    return arr\n",
    "\n",
    "# Example\n",
    "data = [64, 25, 12, 22, 11]\n",
    "print(\"Unsorted:\", data)\n",
    "print(\"Sorted:\", bubble_sort(data))\n"
   ]
  },
  {
   "cell_type": "code",
   "execution_count": null,
   "id": "f99372af-22bc-4eb2-b4bc-60e21248880e",
   "metadata": {},
   "outputs": [],
   "source": [
    "## Visualization of Bubble Sort\n",
    "\n",
    "Bubble sort works by repeatedly swapping adjacent elements:\n",
    "\n",
    "Unsorted: [64, 25, 12, 22, 11]\n",
    "\n",
    "Pass 1 → [25, 12, 22, 11, 64]  \n",
    "Pass 2 → [12, 22, 11, 25, 64]  \n",
    "Pass 3 → [12, 11, 22, 25, 64]  \n",
    "Pass 4 → [11, 12, 22, 25, 64]  \n",
    "\n",
    "![Bubble Sort](bubble_sort.png)\n"
   ]
  }
 ],
 "metadata": {
  "kernelspec": {
   "display_name": "Python [conda env:base] *",
   "language": "python",
   "name": "conda-base-py"
  },
  "language_info": {
   "codemirror_mode": {
    "name": "ipython",
    "version": 3
   },
   "file_extension": ".py",
   "mimetype": "text/x-python",
   "name": "python",
   "nbconvert_exporter": "python",
   "pygments_lexer": "ipython3",
   "version": "3.13.5"
  }
 },
 "nbformat": 4,
 "nbformat_minor": 5
}
