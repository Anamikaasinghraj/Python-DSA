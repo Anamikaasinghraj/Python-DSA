{
 "cells": [
  {
   "cell_type": "markdown",
   "id": "05233b63-9eb9-44f6-a9c0-82fd45dcb3f1",
   "metadata": {},
   "source": [
    "# Sorting \n",
    "\n",
    "**Sorting** is the process of arranging data in a particular order (ascending or descending).  \n",
    "It is one of the most fundamental operations in computer science and is used to organize, search, and optimize data handling.\n",
    "\n",
    "---\n",
    "\n",
    "## Why Sorting is Important?\n",
    "- Faster **searching** (e.g., Binary Search requires sorted data)\n",
    "- Efficient **data representation**\n",
    "- **Data analysis** and visualization\n",
    "- Optimizing algorithms (many algorithms rely on sorted input)\n",
    "\n",
    "---\n"
   ]
  },
  {
   "cell_type": "markdown",
   "id": "189aaf86-6900-42f1-af55-01f45d959cdd",
   "metadata": {},
   "source": [
    "## Key Properties of Sorting Algorithms\n",
    "\n",
    "Even though there are different sorting techniques, they can be compared using these properties:\n",
    "\n",
    "1. **Time Complexity**  \n",
    "   - Best, Average, Worst cases.\n",
    "   - Usually measured as O(n), O(n log n), O(n²), etc.\n",
    "\n",
    "2. **Space Complexity**  \n",
    "   - Extra memory required (in-place or not).\n",
    "\n",
    "3. **Stability**  \n",
    "   - A stable algorithm preserves the order of equal elements.\n",
    "\n",
    "4. **In-Place Sorting**  \n",
    "   - Does not require extra memory, sorts within the original array.\n",
    "\n",
    "---\n",
    "\n",
    "## Common Real-World Examples of Sorting\n",
    "- Sorting names in a contact list\n",
    "- Ranking students by marks\n",
    "- Arranging files by size or date\n",
    "- Search engines ranking results\n"
   ]
  },
  {
   "cell_type": "code",
   "execution_count": 2,
   "id": "d133cc1b-694f-416c-82cc-432bfa725795",
   "metadata": {},
   "outputs": [
    {
     "name": "stderr",
     "output_type": "stream",
     "text": [
      "'[Sorting' is not recognized as an internal or external command,\n",
      "operable program or batch file.\n"
     ]
    }
   ],
   "source": [
    "\n",
    "![Sorting Process](S)\n"
   ]
  },
  {
   "cell_type": "markdown",
   "id": "6068c497-096b-4ae1-8aa5-f7bafd9c7a35",
   "metadata": {},
   "source": []
  },
  {
   "cell_type": "code",
   "execution_count": null,
   "id": "d727eb84-5aa2-4e9c-b85e-4fcec17ba9e9",
   "metadata": {},
   "outputs": [],
   "source": []
  }
 ],
 "metadata": {
  "kernelspec": {
   "display_name": "Python [conda env:base] *",
   "language": "python",
   "name": "conda-base-py"
  },
  "language_info": {
   "codemirror_mode": {
    "name": "ipython",
    "version": 3
   },
   "file_extension": ".py",
   "mimetype": "text/x-python",
   "name": "python",
   "nbconvert_exporter": "python",
   "pygments_lexer": "ipython3",
   "version": "3.13.5"
  }
 },
 "nbformat": 4,
 "nbformat_minor": 5
}
