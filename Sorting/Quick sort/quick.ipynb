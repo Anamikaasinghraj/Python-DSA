{
 "cells": [
  {
   "cell_type": "markdown",
   "id": "472fac85-9f64-4a86-bf7b-480552ad147b",
   "metadata": {},
   "source": [
    "# Quick Sort\n",
    "\n",
    "**Quick Sort** is a **divide and conquer** sorting algorithm that works by selecting a pivot element and partitioning the array into two subarrays:\n",
    "- Elements smaller than the pivot (left side)\n",
    "- Elements greater than the pivot (right side)\n",
    "\n",
    "It then recursively sorts the two subarrays.\n",
    "\n",
    "### Characteristics:\n",
    "- **Time Complexity**:  \n",
    "  - Best Case: O(n log n)  \n",
    "  - Average Case: O(n log n)  \n",
    "  - Worst Case: O(n²) (when pivot selection is poor, e.g., always smallest/largest element)  \n",
    "- **Space Complexity**: O(log n) (for recursion stack)  \n",
    "- **Stability**: Not stable by default\n"
   ]
  },
  {
   "cell_type": "markdown",
   "id": "47679cbd-274e-4111-9172-4800f9afaaa1",
   "metadata": {},
   "source": [
    "## Steps:\n",
    "1. Choose a pivot element (commonly the last element).\n",
    "2. Partition the array: place pivot in correct position, elements smaller on left, larger on right.\n",
    "3. Recursively apply Quick Sort on left and right subarrays.\n",
    "4. Combine results into a fully sorted array.\n"
   ]
  },
  {
   "cell_type": "code",
   "execution_count": 1,
   "id": "f6fd7f0c-11dc-4424-ba96-3c2ac361da5c",
   "metadata": {},
   "outputs": [
    {
     "name": "stdout",
     "output_type": "stream",
     "text": [
      "Unsorted: [64, 25, 12, 22, 11]\n",
      "Sorted: [11, 12, 22, 25, 64]\n"
     ]
    }
   ],
   "source": [
    "def partition(arr, low, high):\n",
    "    pivot = arr[high]  # choose last element as pivot\n",
    "    i = low - 1        # index of smaller element\n",
    "    for j in range(low, high):\n",
    "        if arr[j] <= pivot:\n",
    "            i += 1\n",
    "            arr[i], arr[j] = arr[j], arr[i]\n",
    "    arr[i + 1], arr[high] = arr[high], arr[i + 1]\n",
    "    return i + 1\n",
    "\n",
    "def quick_sort(arr, low, high):\n",
    "    if low < high:\n",
    "        pi = partition(arr, low, high)\n",
    "        quick_sort(arr, low, pi - 1)\n",
    "        quick_sort(arr, pi + 1, high)\n",
    "\n",
    "# Example\n",
    "data = [64, 25, 12, 22, 11]\n",
    "print(\"Unsorted:\", data)\n",
    "quick_sort(data, 0, len(data) - 1)\n",
    "print(\"Sorted:\", data)\n"
   ]
  },
  {
   "cell_type": "markdown",
   "id": "0610b119-0203-4b0f-a85c-05d4701881b3",
   "metadata": {},
   "source": [
    "## Visualization of Quick Sort\n",
    "\n",
    "Example: [64, 25, 12, 22, 11]\n",
    "\n",
    "Step 1 → Choose pivot = 11 → Partition → [11, 25, 12, 22, 64]  \n",
    "Step 2 → Left subarray [ ] (empty), Right subarray [25, 12, 22, 64]  \n",
    "Step 3 → Choose pivot = 64 → Partition → [25, 12, 22, 64]  \n",
    "Step 4 → Continue until fully sorted → [11, 12, 22, 25, 64]  \n",
    "\n",
    "![Quick Sort](quicksorting.jpg)\n",
    "\n"
   ]
  },
  {
   "cell_type": "markdown",
   "id": "9e026655-7671-4684-bfc6-f00d04b4ffeb",
   "metadata": {},
   "source": [
    "## Summary\n",
    "- Quick Sort is generally faster than Merge Sort in practice due to in-place partitioning.\n",
    "- Worst-case O(n²) occurs with poor pivot choice, but randomized pivoting reduces this risk.\n",
    "- Used in many libraries after optimization.\n",
    "- **Space-efficient compared to Merge Sort** since it does not need extra arrays.\n"
   ]
  }
 ],
 "metadata": {
  "kernelspec": {
   "display_name": "Python [conda env:base] *",
   "language": "python",
   "name": "conda-base-py"
  },
  "language_info": {
   "codemirror_mode": {
    "name": "ipython",
    "version": 3
   },
   "file_extension": ".py",
   "mimetype": "text/x-python",
   "name": "python",
   "nbconvert_exporter": "python",
   "pygments_lexer": "ipython3",
   "version": "3.13.5"
  }
 },
 "nbformat": 4,
 "nbformat_minor": 5
}
