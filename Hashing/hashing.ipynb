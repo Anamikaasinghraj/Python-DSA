{
 "cells": [
  {
   "cell_type": "markdown",
   "id": "a9bac54e-eb3f-4460-ae6c-304f47f916ef",
   "metadata": {},
   "source": [
    "# Hashing in Data Structures\n",
    "\n",
    "## 1. Introduction\n",
    "Hashing is a technique used to map data of arbitrary size (keys) to fixed-size values (hash codes or indices).  \n",
    "It is primarily used for **fast data access**, typically in **O(1) average time complexity**.\n",
    "\n",
    "A **hash table** (or hash map) is the data structure that implements hashing.\n",
    "\n",
    "---\n",
    "\n",
    "## 2. Key Terminology\n",
    "- **Hash Function**: A function `h(k)` that converts a key `k` into an index of a table.\n",
    "- **Hash Table**: The array (table) where data is stored using the index from the hash function.\n",
    "- **Collision**: When two different keys map to the same index.\n",
    "- **Load Factor (α)**: Ratio of number of stored elements (n) to table size (m).\n",
    "  \\[\n",
    "  α = \\frac{n}{m}\n",
    "  \\]\n",
    "\n",
    "---\n",
    "\n",
    "## 3. Characteristics of a Good Hash Function\n",
    "- Should be **deterministic** (same input → same output).\n",
    "- Should distribute keys **uniformly**.\n",
    "- Should minimize **collisions**.\n",
    "- Should be **fast to compute**.\n",
    "\n",
    "**Examples:**\n",
    "- Division Method: `h(k) = k % m`\n",
    "- Multiplication Method: `h(k) = floor(m * (k * A mod 1))` where `0 < A < 1`\n",
    "- Universal Hashing: Randomly chosen from a family of hash functions.\n",
    "\n",
    "---\n",
    "\n",
    "## 4. Collision Resolution Techniques\n",
    "Since collisions are unavoidable, we need strategies to handle them:\n",
    "\n",
    "### 4.1 Chaining (Open Hashing)\n",
    "- Each table index stores a **linked list** of keys that hash to the same index.\n",
    "- Easy to implement, but may require extra memory.\n",
    "\n",
    "### 4.2 Open Addressing (Closed Hashing)\n",
    "Instead of a linked list, we **probe** (search) for another empty slot.\n",
    "\n",
    "- **Linear Probing**: Search next slots sequentially: `(h(k) + i) % m`.\n",
    "- **Quadratic Probing**: Use quadratic intervals: `(h(k) + i²) % m`.\n",
    "- **Double Hashing**: Use a second hash function for probing step size.\n",
    "\n",
    "---\n",
    "\n",
    "## 5. Complexity Analysis\n",
    "- **Search**: O(1) average, O(n) worst-case (if collisions are bad).\n",
    "- **Insert**: O(1) average, O(n) worst-case.\n",
    "- **Delete**: O(1) average, O(n) worst-case.\n",
    "\n",
    "Performance depends on:\n",
    "- Load factor α.\n",
    "- Quality of the hash function.\n",
    "- Collision handling method.\n",
    "\n",
    "---\n",
    "\n",
    "## 6. Applications of Hashing\n",
    "- Implementing dictionaries/maps/sets (`dict`, `set` in Python).\n",
    "- Symbol tables in compilers.\n",
    "- Caching (storing previously computed results).\n",
    "- Password verification (using secure hash functions like SHA-256).\n",
    "- Database indexing.\n",
    "- Cryptography.\n",
    "\n",
    "---\n",
    "\n",
    "## 7. Hash Table Example (with image)\n",
    "\n",
    "![Hash Table](ComponentsofHashing.png)\n",
    "\n",
    "*(Here, each key is mapped to a slot using h(k) = k % 10. Collisions are handled by chaining.)*\n",
    "\n",
    "---\n",
    "\n",
    "## 8. Python Example\n"
   ]
  },
  {
   "cell_type": "code",
   "execution_count": 8,
   "id": "bb269310-5a57-430c-bb6c-9fbd4185a87e",
   "metadata": {},
   "outputs": [
    {
     "name": "stdout",
     "output_type": "stream",
     "text": [
      "Apple value: 100\n",
      "After deletion: {'apple': 100}\n"
     ]
    }
   ],
   "source": [
    "# Using Python dictionary as a hash table\n",
    "hash_table = {}\n",
    "\n",
    "# Insert\n",
    "hash_table[\"apple\"] = 100\n",
    "hash_table[\"banana\"] = 50\n",
    "\n",
    "# Search\n",
    "print(\"Apple value:\", hash_table.get(\"apple\"))\n",
    "\n",
    "# Delete\n",
    "del hash_table[\"banana\"]\n",
    "print(\"After deletion:\", hash_table)\n"
   ]
  },
  {
   "cell_type": "markdown",
   "id": "5d56729a-0f75-4c61-ac9b-cbab367b397f",
   "metadata": {},
   "source": [
    "---\n",
    "\n",
    "## 9. Summary\n",
    "- Hashing provides **fast average-case access**.\n",
    "- Good hash functions + proper collision handling = efficient lookups.\n",
    "- Widely used in **real-world systems**: databases, caches, cryptography, compilers.\n",
    "\n"
   ]
  }
 ],
 "metadata": {
  "kernelspec": {
   "display_name": "Python [conda env:base] *",
   "language": "python",
   "name": "conda-base-py"
  },
  "language_info": {
   "codemirror_mode": {
    "name": "ipython",
    "version": 3
   },
   "file_extension": ".py",
   "mimetype": "text/x-python",
   "name": "python",
   "nbconvert_exporter": "python",
   "pygments_lexer": "ipython3",
   "version": "3.13.5"
  }
 },
 "nbformat": 4,
 "nbformat_minor": 5
}
