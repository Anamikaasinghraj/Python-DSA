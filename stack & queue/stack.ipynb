{
 "cells": [
  {
   "cell_type": "markdown",
   "id": "a2e8f193-89b7-47b8-affe-170074af9fe3",
   "metadata": {},
   "source": [
    "# Stack\n",
    "\n",
    "A **Stack** is a linear data structure that follows the principle of:\n",
    "**LIFO (Last In, First Out)**\n",
    "\n",
    "- The last element inserted is the first one to be removed.\n",
    "- Think of it like a stack of plates → you can only take the top plate.\n",
    "\n",
    "## Operations:\n",
    "1. **Push** → Insert element into stack (on top).\n",
    "2. **Pop** → Remove element from stack (from top).\n",
    "3. **Peek / Top** → View the top element without removing it.\n",
    "4. **isEmpty** → Check if stack is empty.\n"
   ]
  },
  {
   "cell_type": "markdown",
   "id": "054458de-5753-41e8-a200-3a92cbbd69d2",
   "metadata": {},
   "source": [
    "## Visualization\n",
    "\n",
    "Stack of elements:\n",
    "\n",
    "Top → [30]  \n",
    "       [20]  \n",
    "       [10] (Bottom)\n",
    "\n",
    "Operations:\n",
    "- Push(40) → New top becomes 40\n",
    "- Pop() → Removes 40, new top = 30\n",
    "\n",
    "![Stack](stackk.webp)\n"
   ]
  },
  {
   "cell_type": "code",
   "execution_count": 1,
   "id": "02a10ae1-d38b-416d-97bd-01a2eae7f799",
   "metadata": {},
   "outputs": [],
   "source": [
    "class Stack:\n",
    "    def __init__(self):\n",
    "        self.stack = []\n",
    "\n",
    "    # Push element\n",
    "    def push(self, data):\n",
    "        self.stack.append(data)\n",
    "\n",
    "    # Pop element\n",
    "    def pop(self):\n",
    "        if not self.is_empty():\n",
    "            return self.stack.pop()\n",
    "        return \"Stack Underflow\"\n",
    "\n",
    "    # Peek top element\n",
    "    def peek(self):\n",
    "        if not self.is_empty():\n",
    "            return self.stack[-1]\n",
    "        return None\n",
    "\n",
    "    # Check if empty\n",
    "    def is_empty(self):\n",
    "        return len(self.stack) == 0\n",
    "\n",
    "    # Display stack\n",
    "    def display(self):\n",
    "        print(\"Stack (top → bottom):\", self.stack[::-1])\n"
   ]
  },
  {
   "cell_type": "code",
   "execution_count": 2,
   "id": "bea0d3cf-d0d8-4055-af61-b05c62b87e26",
   "metadata": {},
   "outputs": [
    {
     "name": "stdout",
     "output_type": "stream",
     "text": [
      "Stack (top → bottom): [30, 20, 10]\n",
      "Top element: 30\n",
      "Pop: 30\n",
      "Stack (top → bottom): [20, 10]\n",
      "Is Empty: False\n"
     ]
    }
   ],
   "source": [
    "s = Stack()\n",
    "\n",
    "s.push(10)\n",
    "s.push(20)\n",
    "s.push(30)\n",
    "\n",
    "s.display()\n",
    "\n",
    "print(\"Top element:\", s.peek())\n",
    "\n",
    "print(\"Pop:\", s.pop())\n",
    "s.display()\n",
    "\n",
    "print(\"Is Empty:\", s.is_empty())\n"
   ]
  },
  {
   "cell_type": "code",
   "execution_count": 3,
   "id": "11cdb156-9ed2-4757-8b95-196110aa49e0",
   "metadata": {},
   "outputs": [
    {
     "name": "stdout",
     "output_type": "stream",
     "text": [
      "Stack: deque([10, 20, 30])\n",
      "After pop: deque([10, 20])\n"
     ]
    }
   ],
   "source": [
    "from collections import deque\n",
    "\n",
    "stack = deque()\n",
    "\n",
    "stack.append(10)  # Push\n",
    "stack.append(20)\n",
    "stack.append(30)\n",
    "print(\"Stack:\", stack)\n",
    "\n",
    "stack.pop()       # Pop\n",
    "print(\"After pop:\", stack)\n"
   ]
  },
  {
   "cell_type": "markdown",
   "id": "2c1d1340-1bb3-4bbf-93f2-aee2b99305fb",
   "metadata": {},
   "source": [
    "## Applications of Stack\n",
    "- Undo/Redo operations in text editors.\n",
    "- Function call stack (recursion).\n",
    "- Parentheses balancing.\n",
    "- Expression evaluation (Postfix/Infix/Prefix).\n",
    "- Depth First Search (DFS) in Graphs.\n"
   ]
  },
  {
   "cell_type": "markdown",
   "id": "9294e681-aa1d-4350-8555-b80ddc17a513",
   "metadata": {},
   "source": [
    "## Complexity of Stack (using array/list)\n",
    "\n",
    "| Operation   | Time Complexity |\n",
    "|-------------|-----------------|\n",
    "| Push        | O(1)            |\n",
    "| Pop         | O(1)            |\n",
    "| Peek        | O(1)            |\n",
    "| isEmpty     | O(1)            |\n"
   ]
  },
  {
   "cell_type": "code",
   "execution_count": null,
   "id": "2a4c2a2c-09d0-4ed6-ad7d-aa5c0a6e4e8f",
   "metadata": {},
   "outputs": [],
   "source": []
  }
 ],
 "metadata": {
  "kernelspec": {
   "display_name": "Python [conda env:base] *",
   "language": "python",
   "name": "conda-base-py"
  },
  "language_info": {
   "codemirror_mode": {
    "name": "ipython",
    "version": 3
   },
   "file_extension": ".py",
   "mimetype": "text/x-python",
   "name": "python",
   "nbconvert_exporter": "python",
   "pygments_lexer": "ipython3",
   "version": "3.13.5"
  }
 },
 "nbformat": 4,
 "nbformat_minor": 5
}
