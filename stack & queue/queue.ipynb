{
 "cells": [
  {
   "cell_type": "markdown",
   "id": "b866d689-51c3-4bcb-8cf4-8f21a672aa64",
   "metadata": {},
   "source": [
    "# Queue\n",
    "\n",
    "A **Queue** is a linear data structure that follows the principle of:\n",
    "**FIFO (First In, First Out)**\n",
    "\n",
    "- The first element inserted is the first one to be removed.\n",
    "- Think of it like a line of people at a ticket counter → the first person in line is served first.\n",
    "\n",
    "## Operations:\n",
    "1. **Enqueue** → Insert element into the queue (at rear).\n",
    "2. **Dequeue** → Remove element from the queue (from front).\n",
    "3. **Peek / Front** → View the front element without removing it.\n",
    "4. **isEmpty** → Check if queue is empty.\n"
   ]
  },
  {
   "cell_type": "markdown",
   "id": "46edfc93-314f-441b-851a-b7ef4a5502f8",
   "metadata": {},
   "source": [
    "## Visualization\n",
    "\n",
    "Front → [10] [20] [30] ← Rear\n",
    "\n",
    "Operations:\n",
    "- Enqueue(40) → Front → [10] [20] [30] [40] ← Rear\n",
    "- Dequeue()   → Removes 10, new front = 20\n",
    "\n",
    "![Queue](queue.jpg)\n"
   ]
  },
  {
   "cell_type": "code",
   "execution_count": 1,
   "id": "89c77047-d2ac-4f95-b19d-b3fe3df8abac",
   "metadata": {},
   "outputs": [],
   "source": [
    "class Queue:\n",
    "    def __init__(self):\n",
    "        self.queue = []\n",
    "\n",
    "    # Enqueue (insert at rear)\n",
    "    def enqueue(self, data):\n",
    "        self.queue.append(data)\n",
    "\n",
    "    # Dequeue (remove from front)\n",
    "    def dequeue(self):\n",
    "        if not self.is_empty():\n",
    "            return self.queue.pop(0)\n",
    "        return \"Queue Underflow\"\n",
    "\n",
    "    # Peek (front element)\n",
    "    def peek(self):\n",
    "        if not self.is_empty():\n",
    "            return self.queue[0]\n",
    "        return None\n",
    "\n",
    "    # Check if empty\n",
    "    def is_empty(self):\n",
    "        return len(self.queue) == 0\n",
    "\n",
    "    # Display queue\n",
    "    def display(self):\n",
    "        print(\"Queue (front → rear):\", self.queue)\n"
   ]
  },
  {
   "cell_type": "code",
   "execution_count": 2,
   "id": "bdb3efa7-268a-411c-9c88-58bc3469ac6c",
   "metadata": {},
   "outputs": [
    {
     "name": "stdout",
     "output_type": "stream",
     "text": [
      "Queue: deque([10, 20, 30])\n",
      "After Dequeue: deque([20, 30])\n"
     ]
    }
   ],
   "source": [
    "from collections import deque\n",
    "\n",
    "queue = deque()\n",
    "\n",
    "queue.append(10)   # Enqueue\n",
    "queue.append(20)\n",
    "queue.append(30)\n",
    "print(\"Queue:\", queue)\n",
    "\n",
    "queue.popleft()    # Dequeue\n",
    "print(\"After Dequeue:\", queue)\n"
   ]
  },
  {
   "cell_type": "markdown",
   "id": "279f4c29-b7eb-4cb6-8ff0-77f8a44b390b",
   "metadata": {},
   "source": [
    "## Applications of Queue\n",
    "- CPU scheduling.  \n",
    "- Printer task scheduling.  \n",
    "- Breadth First Search (BFS) in Graphs.  \n",
    "- Data buffering (IO queues, disk scheduling).  \n",
    "- Handling requests in web servers.  \n"
   ]
  },
  {
   "cell_type": "markdown",
   "id": "5d820cca-92bd-4d46-8423-05dfb009c300",
   "metadata": {},
   "source": [
    "## Complexity of Queue\n",
    "\n",
    "| Operation   | Time Complexity |\n",
    "|-------------|-----------------|\n",
    "| Enqueue     | O(1)            |\n",
    "| Dequeue     | O(1) (if deque used), O(n) (if list pop(0)) |\n",
    "| Peek        | O(1)            |\n",
    "| isEmpty     | O(1)            |\n"
   ]
  },
  {
   "cell_type": "markdown",
   "id": "34a4a424-b92c-48f2-af5c-a5102e41004d",
   "metadata": {},
   "source": [
    "## Summary\n",
    "- Queue follows **FIFO** order.  \n",
    "- Operations: Enqueue, Dequeue, Peek.  \n",
    "- Can be implemented using **list, deque, or linked list**.  \n",
    "- Used in **scheduling, BFS, and request handling**.\n"
   ]
  }
 ],
 "metadata": {
  "kernelspec": {
   "display_name": "Python [conda env:base] *",
   "language": "python",
   "name": "conda-base-py"
  },
  "language_info": {
   "codemirror_mode": {
    "name": "ipython",
    "version": 3
   },
   "file_extension": ".py",
   "mimetype": "text/x-python",
   "name": "python",
   "nbconvert_exporter": "python",
   "pygments_lexer": "ipython3",
   "version": "3.13.5"
  }
 },
 "nbformat": 4,
 "nbformat_minor": 5
}
