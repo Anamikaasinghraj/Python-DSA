{
 "cells": [
  {
   "cell_type": "markdown",
   "id": "e5eae061-2bdc-43f4-85a8-162ebebb8400",
   "metadata": {},
   "source": [
    "# Binary Search Tree (BST)\n",
    "\n",
    "A **Binary Search Tree (BST)** is a binary tree with an additional property:\n",
    "\n",
    "- The **left subtree** of a node contains only nodes with values **less than** the node’s key.  \n",
    "- The **right subtree** of a node contains only nodes with values **greater than** the node’s key.  \n",
    "- No duplicate nodes are allowed.  \n",
    "\n",
    "This property makes **searching, insertion, and deletion efficient**.\n"
   ]
  },
  {
   "cell_type": "markdown",
   "id": "820df817-6983-4f7c-87de-b9aec31053a1",
   "metadata": {},
   "source": [
    "## Example BST\n",
    "\n",
    "            [50]\n",
    "           /    \\\n",
    "        [30]    [70]\n",
    "       /   \\    /   \\\n",
    "    [20]  [40][60]  [80]\n",
    "\n",
    "- Root = 50  \n",
    "- Left Subtree of 50 = {30, 20, 40}  \n",
    "- Right Subtree of 50 = {70, 60, 80}  \n",
    "\n",
    "![Binary Search Tree](binary-search-tree.png.webp)\n"
   ]
  },
  {
   "cell_type": "markdown",
   "id": "c3e3d41d-e6c3-4f21-b54e-577129ebdbdc",
   "metadata": {},
   "source": [
    "## Properties of BST\n",
    "1. Inorder traversal of BST gives **sorted order** of elements.  \n",
    "2. Efficient for **searching, insertion, and deletion** (O(log n) average).  \n",
    "3. Height of BST affects performance.  \n",
    "   - Balanced BST → O(log n)  \n",
    "   - Skewed BST → O(n)  \n"
   ]
  },
  {
   "cell_type": "code",
   "execution_count": 1,
   "id": "b180bd89-8ed4-4f32-b120-829ce108c501",
   "metadata": {},
   "outputs": [
    {
     "name": "stdout",
     "output_type": "stream",
     "text": [
      "Inorder Traversal of BST:\n",
      "20 30 40 50 60 70 80 \n",
      "Searching for 60: Found\n"
     ]
    }
   ],
   "source": [
    "# Node class for BST\n",
    "class Node:\n",
    "    def __init__(self, key):\n",
    "        self.key = key\n",
    "        self.left = None\n",
    "        self.right = None\n",
    "\n",
    "# Insert function\n",
    "def insert(root, key):\n",
    "    if root is None:\n",
    "        return Node(key)\n",
    "    if key < root.key:\n",
    "        root.left = insert(root.left, key)\n",
    "    elif key > root.key:\n",
    "        root.right = insert(root.right, key)\n",
    "    return root\n",
    "\n",
    "# Search function\n",
    "def search(root, key):\n",
    "    if root is None or root.key == key:\n",
    "        return root\n",
    "    if key < root.key:\n",
    "        return search(root.left, key)\n",
    "    return search(root.right, key)\n",
    "\n",
    "# Inorder traversal (Sorted order)\n",
    "def inorder(root):\n",
    "    if root:\n",
    "        inorder(root.left)\n",
    "        print(root.key, end=\" \")\n",
    "        inorder(root.right)\n",
    "\n",
    "# Example usage\n",
    "root = None\n",
    "values = [50, 30, 20, 40, 70, 60, 80]\n",
    "for v in values:\n",
    "    root = insert(root, v)\n",
    "\n",
    "print(\"Inorder Traversal of BST:\")\n",
    "inorder(root)\n",
    "\n",
    "print(\"\\nSearching for 60:\", \"Found\" if search(root, 60) else \"Not Found\")\n"
   ]
  },
  {
   "cell_type": "markdown",
   "id": "45f6de6c-03f0-4138-b810-cb1962862388",
   "metadata": {},
   "source": [
    "## Deletion in BST\n",
    "There are 3 cases when deleting a node:\n",
    "1. **Leaf Node** → Delete directly.  \n",
    "2. **Node with one child** → Replace with child.  \n",
    "3. **Node with two children** → Replace with inorder successor (smallest in right subtree).  \n"
   ]
  },
  {
   "cell_type": "code",
   "execution_count": 2,
   "id": "27b30476-4b70-4fc2-ab5a-2223932f7eaa",
   "metadata": {},
   "outputs": [
    {
     "name": "stdout",
     "output_type": "stream",
     "text": [
      "\n",
      "Deleting 20, 30, 50...\n",
      "Inorder after deletion:\n",
      "40 60 70 80 "
     ]
    }
   ],
   "source": [
    "# Delete function in BST\n",
    "def delete(root, key):\n",
    "    if root is None:\n",
    "        return root\n",
    "    \n",
    "    if key < root.key:\n",
    "        root.left = delete(root.left, key)\n",
    "    elif key > root.key:\n",
    "        root.right = delete(root.right, key)\n",
    "    else:\n",
    "        # Case 1: No child\n",
    "        if root.left is None and root.right is None:\n",
    "            return None\n",
    "        # Case 2: One child\n",
    "        elif root.left is None:\n",
    "            return root.right\n",
    "        elif root.right is None:\n",
    "            return root.left\n",
    "        # Case 3: Two children\n",
    "        else:\n",
    "            # Find inorder successor\n",
    "            temp = root.right\n",
    "            while temp.left:\n",
    "                temp = temp.left\n",
    "            root.key = temp.key\n",
    "            root.right = delete(root.right, temp.key)\n",
    "    return root\n",
    "\n",
    "# Example deletion\n",
    "print(\"\\nDeleting 20, 30, 50...\")\n",
    "root = delete(root, 20)\n",
    "root = delete(root, 30)\n",
    "root = delete(root, 50)\n",
    "\n",
    "print(\"Inorder after deletion:\")\n",
    "inorder(root)\n"
   ]
  },
  {
   "cell_type": "markdown",
   "id": "ed88a18b-415d-4a08-a0da-25a12d94319b",
   "metadata": {},
   "source": [
    "# Applications of BST\n",
    "- Searching and sorting efficiently.  \n",
    "- Implementing sets and maps.  \n",
    "- Database indexing.  \n",
    "- Range queries (finding values between k1 and k2).  \n",
    "- Auto-complete suggestions.  \n"
   ]
  },
  {
   "cell_type": "markdown",
   "id": "d6cc2d1b-e731-41cb-aa8e-80aa68fafb93",
   "metadata": {},
   "source": [
    "# Time Complexity of BST\n",
    "\n",
    "Let `n` = number of nodes, `h` = height of tree.\n",
    "\n",
    "| Operation   | Average Case | Worst Case (Skewed) |\n",
    "|-------------|--------------|----------------------|\n",
    "| Search      | O(log n)     | O(n)                 |\n",
    "| Insert      | O(log n)     | O(n)                 |\n",
    "| Delete      | O(log n)     | O(n)                 |\n",
    "| Traversal   | O(n)         | O(n)                 |"
   ]
  }
 ],
 "metadata": {
  "kernelspec": {
   "display_name": "Python [conda env:base] *",
   "language": "python",
   "name": "conda-base-py"
  },
  "language_info": {
   "codemirror_mode": {
    "name": "ipython",
    "version": 3
   },
   "file_extension": ".py",
   "mimetype": "text/x-python",
   "name": "python",
   "nbconvert_exporter": "python",
   "pygments_lexer": "ipython3",
   "version": "3.13.5"
  }
 },
 "nbformat": 4,
 "nbformat_minor": 5
}
