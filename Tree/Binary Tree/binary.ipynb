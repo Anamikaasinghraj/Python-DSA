{
 "cells": [
  {
   "cell_type": "markdown",
   "id": "008254fd-18c3-4674-843a-9faf96134439",
   "metadata": {},
   "source": [
    "# Binary Tree\n",
    "\n",
    "A **Binary Tree** is a type of tree data structure in which each node can have **at most two children**, called:\n",
    "- **Left child**\n",
    "- **Right child**\n",
    "\n",
    "It is a specialization of a general tree.\n"
   ]
  },
  {
   "cell_type": "markdown",
   "id": "f5014901-e7aa-42ea-aa43-4fd872f4d384",
   "metadata": {},
   "source": [
    "## Example Binary Tree\n",
    "\n",
    "            [A]\n",
    "           /   \\\n",
    "        [B]     [C]\n",
    "       /   \\    /\n",
    "    [D]   [E] [F]\n",
    "\n",
    "- Root = A  \n",
    "- Children of B = {D, E}  \n",
    "- Children of C = {F, None}  \n",
    "- Leaf nodes = D, E, F\n",
    "\n",
    "![Binary Tree](Binary-Tree-Representation-.webp)\n"
   ]
  },
  {
   "cell_type": "markdown",
   "id": "a87e18dc-6f2f-430a-81fd-fb6ba328895a",
   "metadata": {},
   "source": [
    "## Properties\n",
    "- **Maximum number of nodes at level `l`** = 2^l  \n",
    "- **Maximum number of nodes in a tree of height `h`** = 2^(h+1) - 1  \n",
    "- **Minimum possible height with `n` nodes** = log2(n+1) - 1  \n",
    "- Traversals are **important for accessing data** (DFS, BFS).  \n"
   ]
  },
  {
   "cell_type": "code",
   "execution_count": 1,
   "id": "e2a90df5-2a6a-42be-9bc2-3cf7e7a56352",
   "metadata": {},
   "outputs": [
    {
     "name": "stdout",
     "output_type": "stream",
     "text": [
      "Preorder Traversal:\n",
      "A B D E C F "
     ]
    }
   ],
   "source": [
    "# Node class for Binary Tree\n",
    "class Node:\n",
    "    def __init__(self, data):\n",
    "        self.data = data\n",
    "        self.left = None\n",
    "        self.right = None\n",
    "\n",
    "# Example Binary Tree\n",
    "root = Node(\"A\")\n",
    "root.left = Node(\"B\")\n",
    "root.right = Node(\"C\")\n",
    "root.left.left = Node(\"D\")\n",
    "root.left.right = Node(\"E\")\n",
    "root.right.left = Node(\"F\")\n",
    "\n",
    "# Preorder Traversal (Root, Left, Right)\n",
    "def preorder(node):\n",
    "    if node:\n",
    "        print(node.data, end=\" \")\n",
    "        preorder(node.left)\n",
    "        preorder(node.right)\n",
    "\n",
    "print(\"Preorder Traversal:\")\n",
    "preorder(root)\n"
   ]
  },
  {
   "cell_type": "markdown",
   "id": "64f278ae-f8b4-41d0-90dd-ce461429fef5",
   "metadata": {},
   "source": [
    "# Types of Binary Trees\n",
    "\n",
    "## 1. Full Binary Tree\n",
    "- Every node has 0 or 2 children.  \n",
    "- Example:  \n",
    "            [A]\n",
    "           /   \\\n",
    "        [B]     [C]\n",
    "       /   \\   /   \\\n",
    "     [D] [E] [F] [G]\n",
    "\n",
    "## 2. Complete Binary Tree\n",
    "- All levels are completely filled except possibly the last level.  \n",
    "- Nodes are as left as possible.\n",
    "\n",
    "## 3. Perfect Binary Tree\n",
    "- All internal nodes have exactly 2 children.  \n",
    "- All leaf nodes are at the same level.\n",
    "\n",
    "## 4. Balanced Binary Tree\n",
    "- Height difference between left and right subtrees is **at most 1**.  \n",
    "- Ensures O(log n) operations.\n",
    "\n",
    "## 5. Degenerate (or Skewed) Binary Tree\n",
    "- Every parent node has only one child.  \n",
    "- Can be left-skewed or right-skewed.\n"
   ]
  },
  {
   "cell_type": "code",
   "execution_count": null,
   "id": "3171e9c7-825a-4d10-b970-73248e3b3bc6",
   "metadata": {},
   "outputs": [],
   "source": []
  }
 ],
 "metadata": {
  "kernelspec": {
   "display_name": "Python [conda env:base] *",
   "language": "python",
   "name": "conda-base-py"
  },
  "language_info": {
   "codemirror_mode": {
    "name": "ipython",
    "version": 3
   },
   "file_extension": ".py",
   "mimetype": "text/x-python",
   "name": "python",
   "nbconvert_exporter": "python",
   "pygments_lexer": "ipython3",
   "version": "3.13.5"
  }
 },
 "nbformat": 4,
 "nbformat_minor": 5
}
