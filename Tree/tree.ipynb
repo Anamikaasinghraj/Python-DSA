{
 "cells": [
  {
   "cell_type": "markdown",
   "id": "db93c182-8233-48bc-92a6-6145f0f20366",
   "metadata": {},
   "source": [
    "# Tree (Data Structure)\n",
    "\n",
    "A **Tree** is a non-linear hierarchical data structure.  \n",
    "It consists of **nodes** connected by **edges**.  \n",
    "\n",
    "- A tree has a special node called the **Root** (starting point).  \n",
    "- Each node may have **0 or more child nodes**.  \n",
    "- Nodes without children are called **Leaf Nodes**.  \n",
    "- A tree does not contain cycles.\n"
   ]
  },
  {
   "cell_type": "markdown",
   "id": "1fdc8d07-4ba3-4b24-ba4e-1053f96d4849",
   "metadata": {},
   "source": [
    "## Terminology\n",
    "- **Root** → Topmost node.  \n",
    "- **Parent** → A node that has child nodes.  \n",
    "- **Child** → Nodes that descend from a parent.  \n",
    "- **Leaf** → Node with no children.  \n",
    "- **Edge** → Connection between two nodes.  \n",
    "- **Height** → Length of the longest path from root to leaf.  \n",
    "- **Depth** → Distance of a node from the root.  \n",
    "- **Subtree** → Any node and its descendants form a subtree.  \n"
   ]
  },
  {
   "cell_type": "markdown",
   "id": "bf14660d-f132-42a4-a66d-b8f4e45dc54c",
   "metadata": {},
   "source": [
    "## Visualization\n",
    "\n",
    "Example Tree:\n",
    "\n",
    "            [A] (Root)\n",
    "           /   \\\n",
    "        [B]     [C]\n",
    "       /   \\      \\\n",
    "    [D]   [E]     [F]\n",
    "\n",
    "- Root: A  \n",
    "- Parent of B = A  \n",
    "- Children of B = {D, E}  \n",
    "- Leaf nodes = {D, E, F}\n",
    "\n",
    "![Tree](tree.png)\n"
   ]
  },
  {
   "cell_type": "code",
   "execution_count": 1,
   "id": "d95d4d34-110c-431d-b333-5d188138bfc7",
   "metadata": {},
   "outputs": [
    {
     "name": "stdout",
     "output_type": "stream",
     "text": [
      "Tree Structure:\n",
      "A\n",
      "    B\n",
      "        D\n",
      "        E\n",
      "    C\n",
      "        F\n"
     ]
    }
   ],
   "source": [
    "# Node class for Tree\n",
    "class Node:\n",
    "    def __init__(self, data):\n",
    "        self.data = data\n",
    "        self.children = []\n",
    "\n",
    "    def add_child(self, child_node):\n",
    "        self.children.append(child_node)\n",
    "\n",
    "    def display(self, level=0):\n",
    "        print(\" \" * level * 4 + str(self.data))\n",
    "        for child in self.children:\n",
    "            child.display(level + 1)\n",
    "\n",
    "# Example\n",
    "root = Node(\"A\")\n",
    "b = Node(\"B\")\n",
    "c = Node(\"C\")\n",
    "d = Node(\"D\")\n",
    "e = Node(\"E\")\n",
    "f = Node(\"F\")\n",
    "\n",
    "root.add_child(b)\n",
    "root.add_child(c)\n",
    "b.add_child(d)\n",
    "b.add_child(e)\n",
    "c.add_child(f)\n",
    "\n",
    "print(\"Tree Structure:\")\n",
    "root.display()\n"
   ]
  },
  {
   "cell_type": "markdown",
   "id": "d7c018b3-7fe6-4e41-99dc-d38aea6befbe",
   "metadata": {},
   "source": [
    "## Applications of Tree\n",
    "- Hierarchical data representation (File system, XML/HTML).  \n",
    "- Databases (Indexing using B-trees, B+ trees).  \n",
    "- Compilers (Syntax tree, Parse tree).  \n",
    "- Artificial Intelligence (Decision Trees).  \n",
    "- Networking (Routing tables).  \n"
   ]
  },
  {
   "cell_type": "markdown",
   "id": "ec848328-15f1-4635-a802-0fa6caf1d0df",
   "metadata": {},
   "source": [
    "## Complexity\n",
    "\n",
    "Let `n` = number of nodes.\n",
    "\n",
    "| Operation        | Time Complexity |\n",
    "|------------------|-----------------|\n",
    "| Traversal (DFS/BFS) | O(n)          |\n",
    "| Search           | O(n) (general tree) |\n",
    "| Insert (general) | O(1) – O(n)     |\n",
    "| Delete (general) | O(1) – O(n)     |\n"
   ]
  },
  {
   "cell_type": "markdown",
   "id": "457aea1c-3ef9-4b5e-9b74-984126f89307",
   "metadata": {},
   "source": [
    "## Summary\n",
    "- A **Tree** is a hierarchical structure of nodes.  \n",
    "- Root is the entry point; leaf nodes have no children.  \n",
    "- Provides efficient organization of data.  \n",
    "- Basis for advanced structures like **Binary Tree, BST, AVL, Heap, Trie**.  \n"
   ]
  }
 ],
 "metadata": {
  "kernelspec": {
   "display_name": "Python [conda env:base] *",
   "language": "python",
   "name": "conda-base-py"
  },
  "language_info": {
   "codemirror_mode": {
    "name": "ipython",
    "version": 3
   },
   "file_extension": ".py",
   "mimetype": "text/x-python",
   "name": "python",
   "nbconvert_exporter": "python",
   "pygments_lexer": "ipython3",
   "version": "3.13.5"
  }
 },
 "nbformat": 4,
 "nbformat_minor": 5
}
