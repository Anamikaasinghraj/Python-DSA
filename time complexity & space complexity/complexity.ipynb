{
 "cells": [
  {
   "cell_type": "markdown",
   "id": "07b0066c-80a8-41ef-af41-b7e9c6b593ba",
   "metadata": {},
   "source": [
    "# Time Complexity and Space Complexity\n",
    "\n",
    "In Data Structures & Algorithms (DSA), we analyze how **fast** an algorithm runs and how much **memory** it uses.\n",
    "\n",
    "- **Time Complexity** → Measures how the runtime grows with input size (n).  \n",
    "- **Space Complexity** → Measures how much memory is required.  \n"
   ]
  },
  {
   "cell_type": "markdown",
   "id": "1b893f57-5a15-413f-9b79-04cb548e0028",
   "metadata": {},
   "source": [
    "## 1. Time Complexity\n",
    "\n",
    "Time complexity describes how the runtime of an algorithm increases as the input size increases.\n",
    "\n",
    "### Common Time Complexities:\n",
    "- **O(1)** → Constant time (independent of input size)\n",
    "- **O(log n)** → Logarithmic time\n",
    "- **O(n)** → Linear time\n",
    "- **O(n log n)** → Linearithmic time\n",
    "- **O(n²), O(n³)** → Polynomial time\n",
    "- **O(2^n)** → Exponential time\n",
    "- **O(n!)** → Factorial time\n",
    "\n",
    "### Growth Rate Chart:\n",
    "![Time Complexity Graph](complexity.png)\n"
   ]
  },
  {
   "cell_type": "code",
   "execution_count": 1,
   "id": "e922da56-da9b-4e68-b652-a1d77a470784",
   "metadata": {},
   "outputs": [
    {
     "name": "stdout",
     "output_type": "stream",
     "text": [
      "1\n",
      "2\n",
      "3\n",
      "4\n",
      "1 1\n",
      "1 2\n",
      "1 3\n",
      "1 4\n",
      "2 1\n",
      "2 2\n",
      "2 3\n",
      "2 4\n",
      "3 1\n",
      "3 2\n",
      "3 3\n",
      "3 4\n",
      "4 1\n",
      "4 2\n",
      "4 3\n",
      "4 4\n"
     ]
    }
   ],
   "source": [
    "# O(1) - Constant Time\n",
    "def constant_example(arr):\n",
    "    return arr[0]   # Always takes same time\n",
    "\n",
    "# O(n) - Linear Time\n",
    "def linear_example(arr):\n",
    "    for num in arr:\n",
    "        print(num)\n",
    "\n",
    "# O(n^2) - Quadratic Time\n",
    "def quadratic_example(arr):\n",
    "    for i in arr:\n",
    "        for j in arr:\n",
    "            print(i, j)\n",
    "\n",
    "# Testing\n",
    "arr = [1, 2, 3, 4]\n",
    "constant_example(arr)\n",
    "linear_example(arr)\n",
    "quadratic_example(arr)\n"
   ]
  },
  {
   "cell_type": "markdown",
   "id": "a4bc8aba-60fc-4961-b8da-de2ba074f5f9",
   "metadata": {},
   "source": [
    "## 2. Space Complexity\n",
    "\n",
    "Space complexity is the total memory required by an algorithm to execute completely.\n",
    "\n",
    "It consists of:\n",
    "1. **Fixed Part** → Memory for instructions, constants, variables.\n",
    "2. **Variable Part** → Memory that grows with input size (dynamic memory).\n",
    "\n",
    "### Common Space Complexities:\n",
    "- **O(1)** → Constant space\n",
    "- **O(n)** → Linear space\n",
    "- **O(n²)** → Quadratic space\n",
    "\n",
    "### Example:\n",
    "- Using a single counter → O(1)\n",
    "- Using an array of size n → O(n)\n"
   ]
  },
  {
   "cell_type": "code",
   "execution_count": 3,
   "id": "38f06379-d807-4a7e-b7ab-f89d77562eea",
   "metadata": {},
   "outputs": [
    {
     "name": "stdout",
     "output_type": "stream",
     "text": [
      "Sum: 15\n",
      "Copied: [1, 2, 3, 4, 5]\n"
     ]
    }
   ],
   "source": [
    "# O(1) - Constant Space\n",
    "def sum_of_elements(arr):\n",
    "    total = 0   # only one variable\n",
    "    for num in arr:\n",
    "        total += num\n",
    "    return total\n",
    "\n",
    "# O(n) - Linear Space\n",
    "def copy_array(arr):\n",
    "    new_arr = arr[:]   # creates another array of size n\n",
    "    return new_arr\n",
    "\n",
    "arr = [1, 2, 3, 4, 5]\n",
    "print(\"Sum:\", sum_of_elements(arr))\n",
    "print(\"Copied:\", copy_array(arr))\n"
   ]
  },
  {
   "cell_type": "markdown",
   "id": "4d4162b9-3f2e-4cfd-abfb-659e3e210292",
   "metadata": {},
   "source": [
    "## Summary\n",
    "- **Time Complexity** → Analyzes execution time.\n",
    "- **Space Complexity** → Analyzes memory usage.\n",
    "- Efficient algorithms aim for **low time complexity and low space complexity**.\n"
   ]
  }
 ],
 "metadata": {
  "kernelspec": {
   "display_name": "Python [conda env:base] *",
   "language": "python",
   "name": "conda-base-py"
  },
  "language_info": {
   "codemirror_mode": {
    "name": "ipython",
    "version": 3
   },
   "file_extension": ".py",
   "mimetype": "text/x-python",
   "name": "python",
   "nbconvert_exporter": "python",
   "pygments_lexer": "ipython3",
   "version": "3.13.5"
  }
 },
 "nbformat": 4,
 "nbformat_minor": 5
}
