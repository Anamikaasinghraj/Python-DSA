{
 "cells": [
  {
   "cell_type": "markdown",
   "id": "6e083757-ced9-475b-a898-6f4d46b0bc62",
   "metadata": {},
   "source": [
    "# Doubly Linked List (DLL)\n",
    "\n",
    "A **Doubly Linked List** is an advanced form of linked list.  \n",
    "Each node contains **three fields**:\n",
    "1. **Data** → stores the value.  \n",
    "2. **Prev** → pointer to the previous node.  \n",
    "3. **Next** → pointer to the next node.  \n",
    "\n",
    "This allows traversal in **both directions** (forward & backward).  \n",
    "The `prev` of head = None, and `next` of last node = None.\n"
   ]
  },
  {
   "cell_type": "markdown",
   "id": "c890e6fc-35aa-4430-91ab-eb057d1bf7c5",
   "metadata": {},
   "source": [
    "## Visualization\n",
    "\n",
    "None ← [10 | Prev | Next] ↔ [20 | Prev | Next] ↔ [30 | Prev | Next] → None  \n",
    "\n",
    "![Doubly Linked List](Doubly-Linked-List-in-Python.webp)\n"
   ]
  },
  {
   "cell_type": "code",
   "execution_count": 1,
   "id": "e79644c6-8c04-4268-a9dd-7c8c6bca86d0",
   "metadata": {},
   "outputs": [],
   "source": [
    "# Node class for Doubly Linked List\n",
    "class Node:\n",
    "    def __init__(self, data):\n",
    "        self.data = data\n",
    "        self.prev = None\n",
    "        self.next = None\n"
   ]
  },
  {
   "cell_type": "code",
   "execution_count": 2,
   "id": "692729a3-5e54-422b-9578-c30a82244745",
   "metadata": {},
   "outputs": [],
   "source": [
    "class DoublyLinkedList:\n",
    "    def __init__(self):\n",
    "        self.head = None\n",
    "\n",
    "    # Insert at beginning\n",
    "    def insert_at_beginning(self, data):\n",
    "        new_node = Node(data)\n",
    "        if self.head:\n",
    "            new_node.next = self.head\n",
    "            self.head.prev = new_node\n",
    "        self.head = new_node\n",
    "\n",
    "    # Insert at end\n",
    "    def insert_at_end(self, data):\n",
    "        new_node = Node(data)\n",
    "        if not self.head:\n",
    "            self.head = new_node\n",
    "            return\n",
    "        temp = self.head\n",
    "        while temp.next:\n",
    "            temp = temp.next\n",
    "        temp.next = new_node\n",
    "        new_node.prev = temp\n",
    "\n",
    "    # Delete a node by value\n",
    "    def delete_node(self, key):\n",
    "        temp = self.head\n",
    "        while temp and temp.data != key:\n",
    "            temp = temp.next\n",
    "\n",
    "        if not temp:\n",
    "            return  # Key not found\n",
    "\n",
    "        # If node is head\n",
    "        if temp.prev:\n",
    "            temp.prev.next = temp.next\n",
    "        else:\n",
    "            self.head = temp.next\n",
    "\n",
    "        if temp.next:\n",
    "            temp.next.prev = temp.prev\n",
    "\n",
    "        temp = None\n",
    "\n",
    "    # Display forward\n",
    "    def display_forward(self):\n",
    "        temp = self.head\n",
    "        while temp:\n",
    "            print(temp.data, end=\" <-> \")\n",
    "            last = temp\n",
    "            temp = temp.next\n",
    "        print(\"None\")\n",
    "\n",
    "    # Display backward\n",
    "    def display_backward(self):\n",
    "        temp = self.head\n",
    "        if not temp:\n",
    "            return\n",
    "        # Move to last node\n",
    "        while temp.next:\n",
    "            temp = temp.next\n",
    "        # Traverse backwards\n",
    "        while temp:\n",
    "            print(temp.data, end=\" <-> \")\n",
    "            temp = temp.prev\n",
    "        print(\"None\")\n"
   ]
  },
  {
   "cell_type": "code",
   "execution_count": 3,
   "id": "2fff681e-e403-47fb-8874-5b8c2736e80d",
   "metadata": {},
   "outputs": [
    {
     "name": "stdout",
     "output_type": "stream",
     "text": [
      "Forward Traversal:\n",
      "10 <-> 20 <-> 30 <-> None\n",
      "\n",
      "Backward Traversal:\n",
      "30 <-> 20 <-> 10 <-> None\n",
      "\n",
      "Insert at Beginning (5):\n",
      "5 <-> 10 <-> 20 <-> 30 <-> None\n",
      "\n",
      "Delete node (20):\n",
      "5 <-> 10 <-> 30 <-> None\n"
     ]
    }
   ],
   "source": [
    "dll = DoublyLinkedList()\n",
    "\n",
    "dll.insert_at_end(10)\n",
    "dll.insert_at_end(20)\n",
    "dll.insert_at_end(30)\n",
    "\n",
    "print(\"Forward Traversal:\")\n",
    "dll.display_forward()\n",
    "\n",
    "print(\"\\nBackward Traversal:\")\n",
    "dll.display_backward()\n",
    "\n",
    "print(\"\\nInsert at Beginning (5):\")\n",
    "dll.insert_at_beginning(5)\n",
    "dll.display_forward()\n",
    "\n",
    "print(\"\\nDelete node (20):\")\n",
    "dll.delete_node(20)\n",
    "dll.display_forward()\n"
   ]
  },
  {
   "cell_type": "markdown",
   "id": "0038a45a-6941-4130-b992-eb477738cba9",
   "metadata": {},
   "source": [
    "## Complexity of Doubly Linked List\n",
    "\n",
    "| Operation               | Time Complexity | Space Complexity |\n",
    "|--------------------------|-----------------|------------------|\n",
    "| Insert at Beginning      | O(1)            | O(1)             |\n",
    "| Insert at End            | O(n) [O(1) if tail pointer used] | O(1) |\n",
    "| Delete a Node (by key)   | O(n)            | O(1)             |\n",
    "| Traverse Forward         | O(n)            | O(1)             |\n",
    "| Traverse Backward        | O(n)            | O(1)             |\n"
   ]
  },
  {
   "cell_type": "markdown",
   "id": "fc4430b0-41f4-4050-b787-8fe1019aca05",
   "metadata": {},
   "source": [
    "## Summary\n",
    "- **Doubly Linked List (DLL)** allows traversal in both directions.  \n",
    "- Each node has: `data`, `prev`, `next`.  \n",
    "- Advantage: Efficient traversal and deletion (no need to traverse from head always).  \n",
    "- Disadvantage: Extra memory for `prev` pointer, slightly more complex to implement.  \n"
   ]
  }
 ],
 "metadata": {
  "kernelspec": {
   "display_name": "Python [conda env:base] *",
   "language": "python",
   "name": "conda-base-py"
  },
  "language_info": {
   "codemirror_mode": {
    "name": "ipython",
    "version": 3
   },
   "file_extension": ".py",
   "mimetype": "text/x-python",
   "name": "python",
   "nbconvert_exporter": "python",
   "pygments_lexer": "ipython3",
   "version": "3.13.5"
  }
 },
 "nbformat": 4,
 "nbformat_minor": 5
}
