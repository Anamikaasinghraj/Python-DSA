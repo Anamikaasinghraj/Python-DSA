{
 "cells": [
  {
   "cell_type": "markdown",
   "id": "a66793bd-f59b-47d5-b2e5-af67a8e0b3a4",
   "metadata": {},
   "source": [
    "# Singly Linked List (SLL)\n",
    "\n",
    "A **Singly Linked List** is the simplest type of linked list.  \n",
    "- Each node has **two fields**:\n",
    "  1. **Data** → stores value.  \n",
    "  2. **Next** → pointer/reference to the next node.  \n",
    "\n",
    "The last node’s `next` points to **None**.\n"
   ]
  },
  {
   "cell_type": "markdown",
   "id": "c5f8a04e-53a9-42a0-bedc-1451c3e53d95",
   "metadata": {},
   "source": [
    "## Visualization\n",
    "\n",
    "Head → [10 | Next] → [20 | Next] → [30 | Next] → None\n",
    "\n",
    "![Singly Linked List](Singly-Linked-List.webp)\n"
   ]
  },
  {
   "cell_type": "code",
   "execution_count": 1,
   "id": "09eaeab0-9993-44f3-b083-285bb657d0d4",
   "metadata": {},
   "outputs": [],
   "source": [
    "# Node class\n",
    "class Node:\n",
    "    def __init__(self, data):\n",
    "        self.data = data\n",
    "        self.next = None\n"
   ]
  },
  {
   "cell_type": "code",
   "execution_count": 3,
   "id": "a18c013a-09ad-46fe-92a0-564a9644766f",
   "metadata": {},
   "outputs": [],
   "source": [
    "class SinglyLinkedList:\n",
    "    def __init__(self):\n",
    "        self.head = None\n",
    "\n",
    "    # Insert at beginning\n",
    "    def insert_at_beginning(self, data):\n",
    "        new_node = Node(data)\n",
    "        new_node.next = self.head\n",
    "        self.head = new_node\n",
    "\n",
    "    # Insert at end\n",
    "    def insert_at_end(self, data):\n",
    "        new_node = Node(data)\n",
    "        if not self.head:\n",
    "            self.head = new_node\n",
    "            return\n",
    "        temp = self.head\n",
    "        while temp.next:\n",
    "            temp = temp.next\n",
    "        temp.next = new_node\n",
    "\n",
    "    # Delete a node by value\n",
    "    def delete_node(self, key):\n",
    "        temp = self.head\n",
    "\n",
    "        # Case 1: If head is to be deleted\n",
    "        if temp and temp.data == key:\n",
    "            self.head = temp.next\n",
    "            temp = None\n",
    "            return\n",
    "\n",
    "        # Case 2: Search for key\n",
    "        prev = None\n",
    "        while temp and temp.data != key:\n",
    "            prev = temp\n",
    "            temp = temp.next\n",
    "\n",
    "        if temp is None:\n",
    "            return  # Key not found\n",
    "\n",
    "        prev.next = temp.next\n",
    "        temp = None\n",
    "\n",
    "    # Search for a value\n",
    "    def search(self, key):\n",
    "        temp = self.head\n",
    "        while temp:\n",
    "            if temp.data == key:\n",
    "                return True\n",
    "            temp = temp.next\n",
    "        return False\n",
    "\n",
    "    # Display Linked List\n",
    "    def display(self):\n",
    "        temp = self.head\n",
    "        while temp:\n",
    "            print(temp.data, end=\" -> \")\n",
    "            temp = temp.next\n",
    "        print(\"None\")\n"
   ]
  },
  {
   "cell_type": "code",
   "execution_count": 4,
   "id": "bac31001-7b60-45db-a6f6-a178f59ef4c9",
   "metadata": {},
   "outputs": [
    {
     "name": "stdout",
     "output_type": "stream",
     "text": [
      "Initial List:\n",
      "10 -> 20 -> 30 -> None\n",
      "\n",
      "Insert at Beginning:\n",
      "5 -> 10 -> 20 -> 30 -> None\n",
      "\n",
      "Delete node (20):\n",
      "5 -> 10 -> 30 -> None\n",
      "\n",
      "Search 30: True\n",
      "Search 100: False\n"
     ]
    }
   ],
   "source": [
    "# Example\n",
    "sll = SinglyLinkedList()\n",
    "\n",
    "sll.insert_at_end(10)\n",
    "sll.insert_at_end(20)\n",
    "sll.insert_at_end(30)\n",
    "\n",
    "print(\"Initial List:\")\n",
    "sll.display()\n",
    "\n",
    "print(\"\\nInsert at Beginning:\")\n",
    "sll.insert_at_beginning(5)\n",
    "sll.display()\n",
    "\n",
    "print(\"\\nDelete node (20):\")\n",
    "sll.delete_node(20)\n",
    "sll.display()\n",
    "\n",
    "print(\"\\nSearch 30:\", sll.search(30))\n",
    "print(\"Search 100:\", sll.search(100))\n"
   ]
  },
  {
   "cell_type": "markdown",
   "id": "f8d3fd53-e47a-486b-b1f9-81d236b35b43",
   "metadata": {},
   "source": [
    "## Complexity of Singly Linked List\n",
    "\n",
    "| Operation               | Time Complexity | Space Complexity |\n",
    "|--------------------------|-----------------|------------------|\n",
    "| Insert at Beginning      | O(1)            | O(1)             |\n",
    "| Insert at End            | O(n) [O(1) if tail pointer used] | O(1) |\n",
    "| Delete a Node (by key)   | O(n)            | O(1)             |\n",
    "| Search (by value)        | O(n)            | O(1)             |\n",
    "| Traverse / Display       | O(n)            | O(1)             |\n"
   ]
  },
  {
   "cell_type": "markdown",
   "id": "10104d6a-2ecd-48a9-b918-4ae017693991",
   "metadata": {},
   "source": [
    "## Summary\n",
    "- Singly Linked List = sequence of nodes linked by \"next\" pointers.\n",
    "- Operations: Insertion, Deletion, Search, Traversal.\n",
    "- Advantage: Dynamic size, efficient insert/delete at beginning.\n",
    "- Disadvantage: Cannot traverse backwards, access takes O(n).\n"
   ]
  }
 ],
 "metadata": {
  "kernelspec": {
   "display_name": "Python [conda env:base] *",
   "language": "python",
   "name": "conda-base-py"
  },
  "language_info": {
   "codemirror_mode": {
    "name": "ipython",
    "version": 3
   },
   "file_extension": ".py",
   "mimetype": "text/x-python",
   "name": "python",
   "nbconvert_exporter": "python",
   "pygments_lexer": "ipython3",
   "version": "3.13.5"
  }
 },
 "nbformat": 4,
 "nbformat_minor": 5
}
