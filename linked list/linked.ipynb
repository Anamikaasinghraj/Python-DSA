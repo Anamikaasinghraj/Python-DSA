{
 "cells": [
  {
   "cell_type": "markdown",
   "id": "ea246f98-8b96-47e9-beef-6be4c9ad6f96",
   "metadata": {},
   "source": [
    "# Linked List\n",
    "\n",
    "A **Linked List** is a linear data structure in which elements (nodes) are stored at **non-contiguous memory locations**.  \n",
    "Each node contains:\n",
    "1. **Data** → the actual value.  \n",
    "2. **Pointer (next)** → reference to the next node in the sequence.  \n",
    "\n",
    "Unlike arrays, linked lists do not require a fixed size and can grow/shrink dynamically.\n"
   ]
  },
  {
   "cell_type": "markdown",
   "id": "8e5a6dc3-e582-41eb-84d2-b450ef91b4e5",
   "metadata": {},
   "source": [
    "## Why Use Linked List?\n",
    "- Arrays have fixed size → resizing is costly.  \n",
    "- Insertion/Deletion in arrays = O(n), because shifting is required.  \n",
    "- Linked List allows:\n",
    "  - Dynamic memory allocation.  \n",
    "  - Faster insertions/deletions at any position (O(1) if pointer is known).  \n",
    "\n",
    "But:  \n",
    "- Accessing an element is **slower (O(n))** compared to arrays (O(1)).  \n"
   ]
  },
  {
   "cell_type": "markdown",
   "id": "ae46b168-b8c2-4ea7-b0fc-1f0e7440695c",
   "metadata": {},
   "source": [
    "## Structure of a Node\n",
    "\n",
    "Each node contains:\n",
    "- **Data**  \n",
    "- **Next Pointer**\n",
    "\n",
    "Visualization:\n",
    "\n",
    "[10] → [20] → [30] → None\n",
    "\n",
    "![Linked List](link.webp)\n"
   ]
  },
  {
   "cell_type": "code",
   "execution_count": 1,
   "id": "5a767cce-ac95-49e9-82a6-b40bb66040dc",
   "metadata": {},
   "outputs": [
    {
     "name": "stdout",
     "output_type": "stream",
     "text": [
      "10 -> 20 -> 30 -> None\n"
     ]
    }
   ],
   "source": [
    "# Node class\n",
    "class Node:\n",
    "    def __init__(self, data):\n",
    "        self.data = data\n",
    "        self.next = None\n",
    "\n",
    "# Linked List class\n",
    "class LinkedList:\n",
    "    def __init__(self):\n",
    "        self.head = None\n",
    "\n",
    "    # Insert at end\n",
    "    def insert(self, data):\n",
    "        new_node = Node(data)\n",
    "        if self.head is None:\n",
    "            self.head = new_node\n",
    "            return\n",
    "        temp = self.head\n",
    "        while temp.next:\n",
    "            temp = temp.next\n",
    "        temp.next = new_node\n",
    "\n",
    "    # Display Linked List\n",
    "    def display(self):\n",
    "        temp = self.head\n",
    "        while temp:\n",
    "            print(temp.data, end=\" -> \")\n",
    "            temp = temp.next\n",
    "        print(\"None\")\n",
    "\n",
    "# Example\n",
    "ll = LinkedList()\n",
    "ll.insert(10)\n",
    "ll.insert(20)\n",
    "ll.insert(30)\n",
    "ll.display()\n"
   ]
  },
  {
   "cell_type": "markdown",
   "id": "fd730a7f-071d-4689-a55c-72e494bc7fad",
   "metadata": {},
   "source": [
    "## Advantages\n",
    "- Dynamic size (no fixed capacity).  \n",
    "- Efficient insertion/deletion at head or tail.  \n",
    "- No memory wastage.  \n",
    "\n",
    "## Disadvantages\n",
    "- Sequential access (O(n) to find an element).  \n",
    "- Extra memory for storing pointers.  \n",
    "- Cache unfriendly (nodes stored at scattered locations).  \n"
   ]
  },
  {
   "cell_type": "markdown",
   "id": "5d6be577-a61f-4f5c-9bab-1da0c651c32b",
   "metadata": {},
   "source": [
    "## Complexity\n",
    "\n",
    "| Operation          | Time Complexity | Space Complexity |\n",
    "|--------------------|-----------------|------------------|\n",
    "| Access (by index)  | O(n)            | O(1)             |\n",
    "| Search (by value)  | O(n)            | O(1)             |\n",
    "| Insert (at head)   | O(1)            | O(1)             |\n",
    "| Insert (at tail)   | O(1) [if tail known] else O(n) | O(1) |\n",
    "| Delete (by key)    | O(n)            | O(1)             |\n"
   ]
  },
  {
   "cell_type": "markdown",
   "id": "97c4922d-393b-4326-ab1d-e34a20e9286b",
   "metadata": {},
   "source": [
    "## Summary\n",
    "- Linked List = sequence of nodes connected via pointers.  \n",
    "- Grows dynamically, unlike arrays.  \n",
    "- Best for insertions/deletions.  \n",
    "- Slower for access/search compared to arrays.  \n"
   ]
  }
 ],
 "metadata": {
  "kernelspec": {
   "display_name": "Python [conda env:base] *",
   "language": "python",
   "name": "conda-base-py"
  },
  "language_info": {
   "codemirror_mode": {
    "name": "ipython",
    "version": 3
   },
   "file_extension": ".py",
   "mimetype": "text/x-python",
   "name": "python",
   "nbconvert_exporter": "python",
   "pygments_lexer": "ipython3",
   "version": "3.13.5"
  }
 },
 "nbformat": 4,
 "nbformat_minor": 5
}
