{
 "cells": [
  {
   "cell_type": "markdown",
   "id": "51d195bf-12cb-4380-acae-25f851fef487",
   "metadata": {},
   "source": [
    "# Binary Search\n",
    "\n",
    "**Binary Search** is an efficient searching algorithm used on **sorted arrays/lists**.  \n",
    "It works by repeatedly dividing the search interval in half until the target element is found or the interval becomes empty.\n",
    "\n",
    "### Characteristics:\n",
    "- Requires **sorted data**.\n",
    "- Much faster than Linear Search.\n",
    "- Uses **divide and conquer** strategy.\n"
   ]
  },
  {
   "cell_type": "markdown",
   "id": "a3888031-4ee0-457d-a73d-41f57cb8782c",
   "metadata": {},
   "source": [
    "## Steps:\n",
    "1. Start with the left and right indices of the array.\n",
    "2. Find the middle element.\n",
    "3. If the target equals the middle element → return position.\n",
    "4. If the target is smaller → search the left half.\n",
    "5. If the target is larger → search the right half.\n",
    "6. Repeat until target is found or left > right.\n"
   ]
  },
  {
   "cell_type": "code",
   "execution_count": 1,
   "id": "b53f063b-628a-48bc-acb7-c720949f89ab",
   "metadata": {},
   "outputs": [
    {
     "name": "stdout",
     "output_type": "stream",
     "text": [
      "Element 30 found at index 2\n",
      "Not Found\n"
     ]
    }
   ],
   "source": [
    "def binary_search_iterative(arr, target):\n",
    "    left, right = 0, len(arr) - 1\n",
    "    while left <= right:\n",
    "        mid = (left + right) // 2\n",
    "        if arr[mid] == target:\n",
    "            return f\"Element {target} found at index {mid}\"\n",
    "        elif arr[mid] < target:\n",
    "            left = mid + 1\n",
    "        else:\n",
    "            right = mid - 1\n",
    "    return \"Not Found\"\n",
    "\n",
    "# Example\n",
    "data = [10, 20, 30, 40, 50]\n",
    "print(binary_search_iterative(data, 30))\n",
    "print(binary_search_iterative(data, 60))\n"
   ]
  },
  {
   "cell_type": "code",
   "execution_count": 2,
   "id": "53a94654-a23e-43dc-88dc-ab6d768af978",
   "metadata": {},
   "outputs": [
    {
     "name": "stdout",
     "output_type": "stream",
     "text": [
      "Element 40 found at index 3\n"
     ]
    }
   ],
   "source": [
    "#recursive approach\n",
    "\n",
    "def binary_search_recursive(arr, left, right, target):\n",
    "    if left <= right:\n",
    "        mid = (left + right) // 2\n",
    "        if arr[mid] == target:\n",
    "            return f\"Element {target} found at index {mid}\"\n",
    "        elif arr[mid] < target:\n",
    "            return binary_search_recursive(arr, mid + 1, right, target)\n",
    "        else:\n",
    "            return binary_search_recursive(arr, left, mid - 1, target)\n",
    "    return \"Not Found\"\n",
    "\n",
    "# Example\n",
    "print(binary_search_recursive(data, 0, len(data) - 1, 40))\n"
   ]
  },
  {
   "cell_type": "markdown",
   "id": "e26daf75-6da0-4299-83f0-f377c58489dc",
   "metadata": {},
   "source": [
    "## Complexity\n",
    "- **Best Case**: O(1) → Target is middle element\n",
    "- **Worst Case**: O(log n)\n",
    "- **Average Case**: O(log n)\n",
    "- **Space Complexity**:\n",
    "  - Iterative: O(1)\n",
    "  - Recursive: O(log n) (due to recursion stack)\n"
   ]
  },
  {
   "cell_type": "markdown",
   "id": "a650334b-3e62-4a8a-9d95-294177bfebea",
   "metadata": {},
   "source": [
    "## Visualization\n",
    "\n",
    "Data: [10, 20, 30, 40, 50]  \n",
    "Target: 30  \n",
    "\n",
    "Step 1 → Middle = 30 → ✅ Found at index 2  \n",
    "\n",
    "If Target = 40:  \n",
    "Step 1 → Middle = 30 → Target > 30 → Search right half  \n",
    "Step 2 → Middle = 40 → ✅ Found  \n",
    "\n",
    "![Binary Search](binary.webp)\n"
   ]
  },
  {
   "cell_type": "markdown",
   "id": "521904bf-da68-4446-9e86-3e7950903621",
   "metadata": {},
   "source": [
    "## Summary\n",
    "- Binary Search is efficient with **O(log n)** complexity.\n",
    "- Requires **sorted data**.\n",
    "- Works better than Linear Search on large datasets.\n",
    "- Forms the basis of many advanced searching techniques.\n"
   ]
  }
 ],
 "metadata": {
  "kernelspec": {
   "display_name": "Python [conda env:base] *",
   "language": "python",
   "name": "conda-base-py"
  },
  "language_info": {
   "codemirror_mode": {
    "name": "ipython",
    "version": 3
   },
   "file_extension": ".py",
   "mimetype": "text/x-python",
   "name": "python",
   "nbconvert_exporter": "python",
   "pygments_lexer": "ipython3",
   "version": "3.13.5"
  }
 },
 "nbformat": 4,
 "nbformat_minor": 5
}
