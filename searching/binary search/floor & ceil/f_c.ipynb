{
 "cells": [
  {
   "cell_type": "markdown",
   "id": "b2a3bb57-4237-4eba-a2f2-b6e9d7b48bcc",
   "metadata": {},
   "source": [
    "# Ceil and Floor in Searching\n",
    "\n",
    "When working with **sorted arrays** or numbers, we often need to find the **closest elements** relative to a target.  \n",
    "This is where **Ceil** and **Floor** concepts are used.\n",
    "\n",
    "- **Floor**: Largest element ≤ target.  \n",
    "- **Ceil**: Smallest element ≥ target.\n"
   ]
  },
  {
   "cell_type": "markdown",
   "id": "a069258f-fd2b-4d90-badd-e0837cc03c70",
   "metadata": {},
   "source": [
    "## Example\n",
    "\n",
    "Array = [10, 20, 30, 40, 50]\n",
    "\n",
    "Target = 25  \n",
    "- Floor = 20 (largest ≤ 25)  \n",
    "- Ceil = 30 (smallest ≥ 25)  \n",
    "\n",
    "Target = 10  \n",
    "- Floor = 10  \n",
    "- Ceil = 10  \n",
    "\n",
    "Target = 5  \n",
    "- Floor = None (no element ≤ 5)  \n",
    "- Ceil = 10  \n",
    "\n",
    "Target = 60  \n",
    "- Floor = 50  \n",
    "- Ceil = None\n"
   ]
  },
  {
   "cell_type": "code",
   "execution_count": 1,
   "id": "d7e301d2-4d7e-4f44-9faf-c39312247a56",
   "metadata": {},
   "outputs": [
    {
     "name": "stdout",
     "output_type": "stream",
     "text": [
      "Array: [10, 20, 30, 40, 50]\n",
      "Target 25 → Floor: 20, Ceil: 30\n",
      "Target 10 → Floor: 10, Ceil: 10\n",
      "Target 5 → Floor: None, Ceil: 10\n",
      "Target 60 → Floor: 50, Ceil: None\n"
     ]
    }
   ],
   "source": [
    "import bisect\n",
    "\n",
    "def find_floor_ceil(arr, target):\n",
    "    # Find ceil using bisect_left\n",
    "    ceil_index = bisect.bisect_left(arr, target)\n",
    "    ceil_val = arr[ceil_index] if ceil_index < len(arr) else None\n",
    "    \n",
    "    # Find floor using bisect_right\n",
    "    floor_index = bisect.bisect_right(arr, target) - 1\n",
    "    floor_val = arr[floor_index] if floor_index >= 0 else None\n",
    "    \n",
    "    return floor_val, ceil_val\n",
    "\n",
    "# Example\n",
    "arr = [10, 20, 30, 40, 50]\n",
    "print(\"Array:\", arr)\n",
    "\n",
    "targets = [25, 10, 5, 60]\n",
    "for t in targets:\n",
    "    floor_val, ceil_val = find_floor_ceil(arr, t)\n",
    "    print(f\"Target {t} → Floor: {floor_val}, Ceil: {ceil_val}\")\n"
   ]
  },
  {
   "cell_type": "markdown",
   "id": "580ba04c-cb6e-4723-8587-3fb75bfcf0d4",
   "metadata": {},
   "source": [
    "## Complexity\n",
    "- Both Floor and Ceil are solved using **Binary Search**.\n",
    "- Time Complexity: O(log n)\n",
    "- Space Complexity: O(1)\n"
   ]
  },
  {
   "cell_type": "markdown",
   "id": "97acb34c-3730-4c36-9059-2a0024b6714f",
   "metadata": {},
   "source": [
    "## Summary\n",
    "- **Floor** = Greatest element ≤ target.  \n",
    "- **Ceil** = Smallest element ≥ target.  \n",
    "- Requires sorted arrays.  \n",
    "- Very useful in **range queries, interval problems, and searching tasks**.  \n",
    "- Implemented with Binary Search (O(log n)).\n"
   ]
  }
 ],
 "metadata": {
  "kernelspec": {
   "display_name": "Python [conda env:base] *",
   "language": "python",
   "name": "conda-base-py"
  },
  "language_info": {
   "codemirror_mode": {
    "name": "ipython",
    "version": 3
   },
   "file_extension": ".py",
   "mimetype": "text/x-python",
   "name": "python",
   "nbconvert_exporter": "python",
   "pygments_lexer": "ipython3",
   "version": "3.13.5"
  }
 },
 "nbformat": 4,
 "nbformat_minor": 5
}
