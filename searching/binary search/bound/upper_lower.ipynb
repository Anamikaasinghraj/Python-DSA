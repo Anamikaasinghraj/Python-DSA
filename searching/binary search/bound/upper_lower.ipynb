{
 "cells": [
  {
   "cell_type": "markdown",
   "id": "5c380120-33ee-43c0-8b00-98e457f3e0a2",
   "metadata": {},
   "source": [
    "## Lower Bound (LB)\n",
    "- The **first position** (smallest index) where an element **can be inserted** without breaking the order.\n",
    "- Equivalent to the index of the **first element greater than or equal** to the target.\n",
    "- If the element exists, LB gives its first occurrence.\n",
    "\n",
    "## Upper Bound (UB)\n",
    "- The **first position** (smallest index) where an element **greater than the target** is found.\n",
    "- Equivalent to the index just after the **last occurrence** of the target.\n"
   ]
  },
  {
   "cell_type": "markdown",
   "id": "897d6597-0fc1-450f-a714-44bdc5627073",
   "metadata": {},
   "source": [
    "## Example\n",
    "\n",
    "Array = [10, 20, 20, 20, 30, 40]\n",
    "\n",
    "Target = 20  \n",
    "- Lower Bound = index 1 (first 20)  \n",
    "- Upper Bound = index 4 (element after last 20 → 30)  \n",
    "\n",
    "Target = 25  \n",
    "- Lower Bound = index 4 (30, the first element ≥ 25)  \n",
    "- Upper Bound = index 4 (same, because 25 not in array)  \n",
    "\n",
    "Target = 50  \n",
    "- Lower Bound = 6 (position after last element)  \n",
    "- Upper Bound = 6\n"
   ]
  },
  {
   "cell_type": "code",
   "execution_count": 1,
   "id": "8459ee9a-5cf1-466b-bad4-19722d00afa5",
   "metadata": {},
   "outputs": [
    {
     "name": "stdout",
     "output_type": "stream",
     "text": [
      "Array: [10, 20, 20, 20, 30, 40]\n",
      "Target: 20\n",
      "Lower Bound index: 1\n",
      "Upper Bound index: 4\n"
     ]
    }
   ],
   "source": [
    "import bisect\n",
    "\n",
    "arr = [10, 20, 20, 20, 30, 40]\n",
    "\n",
    "target = 20\n",
    "lb = bisect.bisect_left(arr, target)   # lower bound\n",
    "ub = bisect.bisect_right(arr, target)  # upper bound\n",
    "\n",
    "print(\"Array:\", arr)\n",
    "print(\"Target:\", target)\n",
    "print(\"Lower Bound index:\", lb)\n",
    "print(\"Upper Bound index:\", ub)\n"
   ]
  },
  {
   "cell_type": "markdown",
   "id": "d607d7be-a3ae-4270-86f4-371403c7b658",
   "metadata": {},
   "source": [
    "## Complexity\n",
    "- Both Lower Bound and Upper Bound are implemented using **Binary Search**.\n",
    "- Time Complexity: O(log n)\n",
    "- Space Complexity: O(1)\n"
   ]
  },
  {
   "cell_type": "markdown",
   "id": "2494a306-0137-41a3-95c0-909f30682fc6",
   "metadata": {},
   "source": [
    "## Summary\n",
    "- **Lower Bound**: First element ≥ target.  \n",
    "- **Upper Bound**: First element > target.  \n",
    "- Both can be solved with Binary Search (O(log n)).  \n",
    "- Very useful in competitive programming and searching problems.\n"
   ]
  }
 ],
 "metadata": {
  "kernelspec": {
   "display_name": "Python [conda env:base] *",
   "language": "python",
   "name": "conda-base-py"
  },
  "language_info": {
   "codemirror_mode": {
    "name": "ipython",
    "version": 3
   },
   "file_extension": ".py",
   "mimetype": "text/x-python",
   "name": "python",
   "nbconvert_exporter": "python",
   "pygments_lexer": "ipython3",
   "version": "3.13.5"
  }
 },
 "nbformat": 4,
 "nbformat_minor": 5
}
