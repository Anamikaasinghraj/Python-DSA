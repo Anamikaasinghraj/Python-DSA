{
 "cells": [
  {
   "cell_type": "markdown",
   "id": "ecbc3a90-0039-4276-9edb-eabf6447e832",
   "metadata": {},
   "source": [
    "# Linear Search\n",
    "\n",
    "**Linear Search** is the simplest searching algorithm.  \n",
    "It checks each element of the list one by one until the target element is found or the list ends.\n",
    "\n",
    "### Characteristics:\n",
    "- Works on both **sorted and unsorted** data.\n",
    "- Simple but inefficient for large datasets.\n",
    "- Does not require extra memory.\n"
   ]
  },
  {
   "cell_type": "markdown",
   "id": "77cd9744-7333-4339-81fd-be0b1933ab70",
   "metadata": {},
   "source": [
    "## Steps:\n",
    "1. Start from the first element of the list.\n",
    "2. Compare each element with the target.\n",
    "3. If a match is found, return its position.\n",
    "4. If the end is reached without finding the target, return \"Not Found\".\n"
   ]
  },
  {
   "cell_type": "code",
   "execution_count": 1,
   "id": "e899c0fb-27fd-4c62-9fd9-6a2d1c82a6ed",
   "metadata": {},
   "outputs": [
    {
     "name": "stdout",
     "output_type": "stream",
     "text": [
      "Element 30 found at index 2\n",
      "Not Found\n"
     ]
    }
   ],
   "source": [
    "def linear_search(arr, target):\n",
    "    for i in range(len(arr)):\n",
    "        if arr[i] == target:\n",
    "            return f\"Element {target} found at index {i}\"\n",
    "    return \"Not Found\"\n",
    "\n",
    "# Example\n",
    "data = [10, 20, 30, 40, 50]\n",
    "print(linear_search(data, 30))  # Found\n",
    "print(linear_search(data, 60))  # Not Found\n"
   ]
  },
  {
   "cell_type": "markdown",
   "id": "8c56702a-a3fb-4f35-ac12-12a591552899",
   "metadata": {},
   "source": [
    "## Complexity\n",
    "- **Best Case**: O(1) → Target is the first element\n",
    "- **Worst Case**: O(n) → Target is the last element or not present\n",
    "- **Average Case**: O(n/2) ≈ O(n)\n",
    "- **Space Complexity**: O(1)\n"
   ]
  },
  {
   "cell_type": "markdown",
   "id": "139ff504-1e81-437c-91dc-d7cad3353481",
   "metadata": {},
   "source": [
    "## Visualization\n",
    "\n",
    "Data: [10, 20, 30, 40, 50]  \n",
    "Target: 30  \n",
    "\n",
    "Check 10 → Not match ❌  \n",
    "Check 20 → Not match ❌  \n",
    "Check 30 → Match ✅ → Found at index 2  \n",
    "\n",
    "![Linear Search](linearr.jpg)\n"
   ]
  },
  {
   "cell_type": "markdown",
   "id": "64c4f966-9a75-4a75-8d22-ff5a1c46469f",
   "metadata": {},
   "source": [
    "## Summary\n",
    "- Linear Search is **easy to implement**.\n",
    "- Useful for **small datasets** or **unsorted data**.\n",
    "- Not efficient for large datasets compared to Binary Search.\n"
   ]
  }
 ],
 "metadata": {
  "kernelspec": {
   "display_name": "Python [conda env:base] *",
   "language": "python",
   "name": "conda-base-py"
  },
  "language_info": {
   "codemirror_mode": {
    "name": "ipython",
    "version": 3
   },
   "file_extension": ".py",
   "mimetype": "text/x-python",
   "name": "python",
   "nbconvert_exporter": "python",
   "pygments_lexer": "ipython3",
   "version": "3.13.5"
  }
 },
 "nbformat": 4,
 "nbformat_minor": 5
}
