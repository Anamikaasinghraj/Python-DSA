{
 "cells": [
  {
   "cell_type": "markdown",
   "id": "8b8292e6-e263-4c83-aa5d-3d68b7742376",
   "metadata": {},
   "source": [
    "# Searching \n",
    "\n",
    "**Searching** is the process of finding whether an element exists in a data structure and, if it does, determining its location (index, key, or position).\n",
    "\n",
    "It is one of the most fundamental operations in computer science.\n",
    "\n",
    "### Why Searching?\n",
    "- To check if an element exists\n",
    "- To retrieve information quickly\n",
    "- To optimize performance in large datasets\n"
   ]
  },
  {
   "cell_type": "markdown",
   "id": "ccf80fb5-e688-4fb2-917b-4ef2a1f8d79d",
   "metadata": {},
   "source": [
    "## Key Points About Searching\n",
    "1. **Input** → A data structure (array, list, tree, graph, etc.) and a target value.\n",
    "2. **Output** → Position/index of the target if found, else \"Not Found\".\n",
    "3. **Performance** → Depends on the size of data and searching technique.\n",
    "4. **Applications**:\n",
    "   - Database lookups\n",
    "   - Spell checkers\n",
    "   - Search engines\n",
    "   - Games and AI pathfinding\n"
   ]
  },
  {
   "cell_type": "markdown",
   "id": "0866d1d8-d9ee-4c1f-b04a-90e4d8ac6847",
   "metadata": {},
   "source": [
    "## General Pseudocode for Searching\n",
    "\n",
    "function search(data, target):\n",
    "    for each element in data:\n",
    "        if element == target:\n",
    "            return position\n",
    "    return \"Not Found\"\n"
   ]
  },
  {
   "cell_type": "code",
   "execution_count": 1,
   "id": "d5ccdb23-5ca4-4df3-8876-d1147a4c234a",
   "metadata": {},
   "outputs": [
    {
     "name": "stdout",
     "output_type": "stream",
     "text": [
      "Element 30 found at index 2\n",
      "Not Found\n"
     ]
    }
   ],
   "source": [
    "def search(arr, target):\n",
    "    for i in range(len(arr)):\n",
    "        if arr[i] == target:\n",
    "            return f\"Element {target} found at index {i}\"\n",
    "    return \"Not Found\"\n",
    "\n",
    "# Example\n",
    "data = [10, 20, 30, 40, 50]\n",
    "print(search(data, 30))\n",
    "print(search(data, 60))\n"
   ]
  },
  {
   "cell_type": "markdown",
   "id": "85de5fbe-1ac0-4c96-a446-94fef7ccca9f",
   "metadata": {},
   "source": [
    "## Visualization\n",
    "\n",
    "Data: [10, 20, 30, 40, 50]  \n",
    "Searching for 30 → ✅ Found at index 2  \n",
    "Searching for 60 → ❌ Not Found  \n",
    "\n",
    "![Searching](search.png)"
   ]
  },
  {
   "cell_type": "markdown",
   "id": "be3308cc-888a-41bb-9d4f-008cad9a637a",
   "metadata": {},
   "source": [
    "## Summary\n",
    "- Searching is used to locate an element in a dataset.\n",
    "- Efficiency depends on dataset structure and method used.\n",
    "- Basis of many advanced algorithms and real-world applications."
   ]
  }
 ],
 "metadata": {
  "kernelspec": {
   "display_name": "Python [conda env:base] *",
   "language": "python",
   "name": "conda-base-py"
  },
  "language_info": {
   "codemirror_mode": {
    "name": "ipython",
    "version": 3
   },
   "file_extension": ".py",
   "mimetype": "text/x-python",
   "name": "python",
   "nbconvert_exporter": "python",
   "pygments_lexer": "ipython3",
   "version": "3.13.5"
  }
 },
 "nbformat": 4,
 "nbformat_minor": 5
}
