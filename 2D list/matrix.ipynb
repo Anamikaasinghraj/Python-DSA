{
 "cells": [
  {
   "cell_type": "markdown",
   "id": "60a0e0d9-ae4a-4bdb-abdd-9204da0f26da",
   "metadata": {},
   "source": [
    "# 2D Lists (Matrix) \n",
    "\n",
    "In Python, a **2D list** (or matrix) is a list of lists.  \n",
    "It is commonly used to represent:\n",
    "- Matrices in mathematics\n",
    "- Grids in games (like chess, Sudoku)\n",
    "- Tables in data representation\n",
    "\n",
    "Example of a 3x3 matrix:\n",
    "[\n",
    "  [1, 2, 3],\n",
    "  [4, 5, 6],\n",
    "  [7, 8, 9]\n",
    "]\n"
   ]
  },
  {
   "cell_type": "code",
   "execution_count": 1,
   "id": "d08bfea2-4fd3-43e9-b8fa-32daed18143f",
   "metadata": {},
   "outputs": [
    {
     "name": "stdout",
     "output_type": "stream",
     "text": [
      "[[1, 2, 3], [4, 5, 6], [7, 8, 9]]\n"
     ]
    }
   ],
   "source": [
    "# Simple 2D List\n",
    "matrix = [\n",
    "    [1, 2, 3],\n",
    "    [4, 5, 6],\n",
    "    [7, 8, 9]\n",
    "]\n",
    "print(matrix)\n"
   ]
  },
  {
   "cell_type": "code",
   "execution_count": 2,
   "id": "181dbdc8-868a-4b03-b813-66b50dfffdaf",
   "metadata": {},
   "outputs": [
    {
     "name": "stdout",
     "output_type": "stream",
     "text": [
      "Element at row 1, col 2: 6\n",
      "Second row: [4, 5, 6]\n",
      "First column: [1, 4, 7]\n"
     ]
    }
   ],
   "source": [
    "# Access row 1, column 2 (zero-indexed)\n",
    "print(\"Element at row 1, col 2:\", matrix[1][2])  # 6\n",
    "\n",
    "# Access full row\n",
    "print(\"Second row:\", matrix[1])  # [4, 5, 6]\n",
    "\n",
    "# Access full column\n",
    "print(\"First column:\", [row[0] for row in matrix])  # [1, 4, 7]\n"
   ]
  },
  {
   "cell_type": "code",
   "execution_count": 3,
   "id": "7ea3042b-bf67-4185-b0cc-7ccb5142b9f7",
   "metadata": {},
   "outputs": [
    {
     "name": "stdout",
     "output_type": "stream",
     "text": [
      "Matrix elements:\n",
      "1 2 3 \n",
      "4 5 6 \n",
      "7 8 9 \n"
     ]
    }
   ],
   "source": [
    "print(\"Matrix elements:\")\n",
    "for row in matrix:\n",
    "    for elem in row:\n",
    "        print(elem, end=\" \")\n",
    "    print()\n"
   ]
  },
  {
   "cell_type": "code",
   "execution_count": 4,
   "id": "c6edc99b-de48-4bc5-99b6-d26527547460",
   "metadata": {},
   "outputs": [
    {
     "name": "stdout",
     "output_type": "stream",
     "text": [
      "Transpose: [[1, 4, 7], [2, 5, 8], [3, 6, 9]]\n",
      "Sum of elements: 45\n"
     ]
    }
   ],
   "source": [
    "# Transpose of matrix\n",
    "transpose = [[row[i] for row in matrix] for i in range(len(matrix[0]))]\n",
    "print(\"Transpose:\", transpose)\n",
    "\n",
    "# Sum of all elements\n",
    "total = sum(sum(row) for row in matrix)\n",
    "print(\"Sum of elements:\", total)\n"
   ]
  },
  {
   "cell_type": "markdown",
   "id": "d247ceb7-04f4-4f0d-ae7f-fdd13520e316",
   "metadata": {},
   "source": [
    "## Visualization of 3x3 Matrix\n",
    "\n",
    "Matrix:\n",
    "[\n",
    "  [1, 2, 3],\n",
    "  [4, 5, 6],\n",
    "  [7, 8, 9]\n",
    "]\n",
    "\n",
    "![Matrix](maxresdefault.jpg)\n"
   ]
  },
  {
   "cell_type": "code",
   "execution_count": null,
   "id": "cdc37218-d54a-42f9-b01c-f2182c70ea5d",
   "metadata": {},
   "outputs": [],
   "source": []
  }
 ],
 "metadata": {
  "kernelspec": {
   "display_name": "Python [conda env:base] *",
   "language": "python",
   "name": "conda-base-py"
  },
  "language_info": {
   "codemirror_mode": {
    "name": "ipython",
    "version": 3
   },
   "file_extension": ".py",
   "mimetype": "text/x-python",
   "name": "python",
   "nbconvert_exporter": "python",
   "pygments_lexer": "ipython3",
   "version": "3.13.5"
  }
 },
 "nbformat": 4,
 "nbformat_minor": 5
}
