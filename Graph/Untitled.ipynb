{
 "cells": [
  {
   "cell_type": "markdown",
   "id": "c5593d04-f0d0-46f8-849e-ce30f81fa487",
   "metadata": {},
   "source": [
    "# Graph \n",
    "\n",
    "A **Graph** is a non-linear data structure consisting of:\n",
    "\n",
    "- A set of **Vertices (nodes)**  \n",
    "- A set of **Edges (connections between nodes)**  \n",
    "\n",
    "Formally, a graph `G` is defined as:  \n",
    "**G = (V, E)**  \n",
    "where:  \n",
    "- `V` = set of vertices  \n",
    "- `E` = set of edges (pairs of vertices)  \n",
    "\n",
    "Graphs are widely used to represent **networks** such as social media, maps, internet routing, etc.\n"
   ]
  },
  {
   "cell_type": "markdown",
   "id": "48d7ea7f-2a0f-49f3-aa33-91a744f0e57b",
   "metadata": {},
   "source": [
    "## Example Graph\n",
    "\n",
    "Vertices = {A, B, C, D, E}  \n",
    "Edges = {(A,B), (A,C), (B,D), (C,D), (D,E)}\n",
    "\n",
    "Visualization:\n",
    "\n",
    "    A ---- B\n",
    "     \\     |\n",
    "      \\    |\n",
    "       C -- D -- E\n",
    "\n",
    "![Graph](graph.jpg)\n"
   ]
  },
  {
   "cell_type": "markdown",
   "id": "42c3e491-0ffa-463a-8778-3a4ff7a715ce",
   "metadata": {},
   "source": [
    "# Types of Graphs\n",
    "\n",
    "1. **Undirected Graph** → Edges have no direction.  \n",
    "2. **Directed Graph (Digraph)** → Edges have direction (arrows).  \n",
    "3. **Weighted Graph** → Edges have weights/costs.  \n",
    "4. **Unweighted Graph** → Edges only show connections.  \n",
    "5. **Cyclic Graph** → Contains at least one cycle.  \n",
    "6. **Acyclic Graph** → Contains no cycles.  \n",
    "7. **Connected Graph** → There is a path between every pair of vertices.  \n",
    "8. **Disconnected Graph** → Some vertices are not reachable.  \n",
    "9. **Tree** → A special type of acyclic connected graph.  \n"
   ]
  },
  {
   "cell_type": "markdown",
   "id": "08cb53e5-9831-470d-a5c7-c3d95b63385a",
   "metadata": {},
   "source": [
    "# Graph Representation\n",
    "\n",
    "Graphs can be represented in two main ways:\n",
    "\n",
    "1. **Adjacency Matrix**\n",
    "   - 2D array where cell (i,j) = 1 (or weight) if edge exists.  \n",
    "   - Space: O(V^2)\n",
    "\n",
    "2. **Adjacency List**\n",
    "   - Each vertex stores a list of connected vertices.  \n",
    "   - Space: O(V + E)\n",
    "\n",
    "Example:\n",
    "\n",
    "Adjacency List for above graph:\n",
    "A → [B, C]  \n",
    "B → [A, D]  \n",
    "C → [A, D]  \n",
    "D → [B, C, E]  \n",
    "E → [D]  \n"
   ]
  },
  {
   "cell_type": "code",
   "execution_count": 1,
   "id": "4435a1ab-b303-4d83-9374-e86cad1bde6d",
   "metadata": {},
   "outputs": [
    {
     "name": "stdout",
     "output_type": "stream",
     "text": [
      "Adjacency List Representation:\n",
      "A -> ['B', 'C']\n",
      "B -> ['A', 'D']\n",
      "C -> ['A', 'D']\n",
      "D -> ['B', 'C', 'E']\n",
      "E -> ['D']\n"
     ]
    }
   ],
   "source": [
    "# Graph using Adjacency List\n",
    "class Graph:\n",
    "    def __init__(self):\n",
    "        self.graph = {}\n",
    "\n",
    "    def add_edge(self, u, v):\n",
    "        if u not in self.graph:\n",
    "            self.graph[u] = []\n",
    "        if v not in self.graph:\n",
    "            self.graph[v] = []\n",
    "        self.graph[u].append(v)\n",
    "        self.graph[v].append(u)  # undirected graph\n",
    "\n",
    "    def display(self):\n",
    "        for node in self.graph:\n",
    "            print(node, \"->\", self.graph[node])\n",
    "\n",
    "# Example usage\n",
    "g = Graph()\n",
    "g.add_edge(\"A\", \"B\")\n",
    "g.add_edge(\"A\", \"C\")\n",
    "g.add_edge(\"B\", \"D\")\n",
    "g.add_edge(\"C\", \"D\")\n",
    "g.add_edge(\"D\", \"E\")\n",
    "\n",
    "print(\"Adjacency List Representation:\")\n",
    "g.display()\n"
   ]
  },
  {
   "cell_type": "markdown",
   "id": "a1d0d123-e103-47f4-bd14-7865534d644c",
   "metadata": {},
   "source": [
    "# Graph Traversals\n",
    "\n",
    "1. **Breadth First Search (BFS)**\n",
    "   - Explore neighbors first, then go deeper.\n",
    "   - Uses Queue.\n",
    "\n",
    "2. **Depth First Search (DFS)**\n",
    "   - Explore as deep as possible before backtracking.\n",
    "   - Uses Recursion or Stack.\n"
   ]
  },
  {
   "cell_type": "code",
   "execution_count": 2,
   "id": "56ab0e65-3186-45c5-a8aa-c18144334255",
   "metadata": {},
   "outputs": [
    {
     "name": "stdout",
     "output_type": "stream",
     "text": [
      "\n",
      "BFS starting from A:\n",
      "A B C D E \n",
      "DFS starting from A:\n",
      "A B D C E "
     ]
    }
   ],
   "source": [
    "from collections import deque\n",
    "\n",
    "# BFS\n",
    "def bfs(graph, start):\n",
    "    visited = set()\n",
    "    queue = deque([start])\n",
    "    while queue:\n",
    "        node = queue.popleft()\n",
    "        if node not in visited:\n",
    "            print(node, end=\" \")\n",
    "            visited.add(node)\n",
    "            queue.extend(graph[node])\n",
    "\n",
    "# DFS\n",
    "def dfs(graph, start, visited=None):\n",
    "    if visited is None:\n",
    "        visited = set()\n",
    "    if start not in visited:\n",
    "        print(start, end=\" \")\n",
    "        visited.add(start)\n",
    "        for neighbor in graph[start]:\n",
    "            dfs(graph, neighbor, visited)\n",
    "\n",
    "print(\"\\nBFS starting from A:\")\n",
    "bfs(g.graph, \"A\")\n",
    "\n",
    "print(\"\\nDFS starting from A:\")\n",
    "dfs(g.graph, \"A\")\n"
   ]
  },
  {
   "cell_type": "markdown",
   "id": "884c76cb-b16b-42e4-af07-d9a539a9f1bc",
   "metadata": {},
   "source": [
    "# Applications of Graphs\n",
    "- Social networks (Facebook, Instagram).  \n",
    "- Google Maps (shortest path, GPS navigation).  \n",
    "- Internet networks (routers and connections).  \n",
    "- Compiler design (dependency graphs).  \n",
    "- Recommendation systems (graph-based AI).  \n",
    "- Airline routes and transportation.  \n"
   ]
  },
  {
   "cell_type": "markdown",
   "id": "46d9d061-4089-42a4-a8cb-116c7b315d96",
   "metadata": {},
   "source": [
    "# Complexity\n",
    "\n",
    "Let `V` = number of vertices, `E` = number of edges.\n",
    "\n",
    "| Representation   | Space Complexity |\n",
    "|------------------|------------------|\n",
    "| Adjacency Matrix | O(V^2)           |\n",
    "| Adjacency List   | O(V + E)         |\n",
    "\n",
    "| Traversal (BFS/DFS) | Time Complexity |\n",
    "|----------------------|-----------------|\n",
    "| BFS                  | O(V + E)        |\n",
    "| DFS                  | O(V + E)        |\n"
   ]
  }
 ],
 "metadata": {
  "kernelspec": {
   "display_name": "Python [conda env:base] *",
   "language": "python",
   "name": "conda-base-py"
  },
  "language_info": {
   "codemirror_mode": {
    "name": "ipython",
    "version": 3
   },
   "file_extension": ".py",
   "mimetype": "text/x-python",
   "name": "python",
   "nbconvert_exporter": "python",
   "pygments_lexer": "ipython3",
   "version": "3.13.5"
  }
 },
 "nbformat": 4,
 "nbformat_minor": 5
}
